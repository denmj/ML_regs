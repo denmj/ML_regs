{
  "nbformat": 4,
  "nbformat_minor": 0,
  "metadata": {
    "colab": {
      "name": "ML_linreg.ipynb",
      "provenance": [],
      "authorship_tag": "ABX9TyN7iydBffGr9JciKdXcuvHN",
      "include_colab_link": true
    },
    "kernelspec": {
      "name": "python3",
      "display_name": "Python 3"
    }
  },
  "cells": [
    {
      "cell_type": "markdown",
      "metadata": {
        "id": "view-in-github",
        "colab_type": "text"
      },
      "source": [
        "<a href=\"https://colab.research.google.com/github/denmj/ML_regs/blob/master/ML_linreg.ipynb\" target=\"_parent\"><img src=\"https://colab.research.google.com/assets/colab-badge.svg\" alt=\"Open In Colab\"/></a>"
      ]
    },
    {
      "cell_type": "code",
      "metadata": {
        "id": "G_TPn0_0zEvi",
        "colab_type": "code",
        "colab": {}
      },
      "source": [
        "import matplotlib.pyplot as plt\n",
        "import numpy as np \n",
        "import pandas as pd \n",
        "from sklearn.datasets import fetch_california_housing\n",
        "\n",
        "from sklearn.pipeline import Pipeline\n",
        "\n",
        "#Pre processing \n",
        "from sklearn.model_selection import train_test_split\n",
        "from sklearn.preprocessing import StandardScaler\n",
        "from sklearn.model_selection import GridSearchCV\n",
        "\n"
      ],
      "execution_count": 0,
      "outputs": []
    },
    {
      "cell_type": "code",
      "metadata": {
        "id": "FcQ4BVK3AO3F",
        "colab_type": "code",
        "colab": {}
      },
      "source": [
        "def missing_zero_values_table(df):\n",
        "    zero_val = (df == 0.00).astype(int).sum(axis=0)\n",
        "    mis_val = df.isnull().sum()\n",
        "    mis_val_percent = 100 * df.isnull().sum() / len(df)\n",
        "    mz_table = pd.concat([zero_val, mis_val, mis_val_percent], axis=1)\n",
        "    mz_table = mz_table.rename(\n",
        "        columns={0: 'Zero Values', 1: 'Missing Values', 2: '% of Total Values'})\n",
        "    mz_table['Total Zero Missing Values'] = mz_table['Zero Values'] + mz_table['Missing Values']\n",
        "    mz_table['% Total Zero Missing Values'] = 100 * mz_table['Total Zero Missing Values'] / len(df)\n",
        "    mz_table['Data Type'] = df.dtypes\n",
        "    mz_table = mz_table[\n",
        "        mz_table.iloc[:, 1] != 0].sort_values(\n",
        "        '% of Total Values', ascending=False).round(1)\n",
        "    print(\"Your selected dataframe has \" + str(df.shape[1]) + \" columns and \" + str(df.shape[0]) + \" Rows.\\n\"\n",
        "                                                                                                   \"There are \" + str(\n",
        "        mz_table.shape[0]) +\n",
        "          \" columns that have missing values.\")\n",
        "    #         mz_table.to_excel('D:/sampledata/missing_and_zero_values.xlsx', freeze_panes=(1,0), index = False)\n",
        "    return mz_table"
      ],
      "execution_count": 0,
      "outputs": []
    },
    {
      "cell_type": "code",
      "metadata": {
        "id": "RWs37VNbzNY4",
        "colab_type": "code",
        "outputId": "71154834-f4f3-4a58-a9b9-04ee5d15256a",
        "colab": {
          "base_uri": "https://localhost:8080/",
          "height": 34
        }
      },
      "source": [
        "data = fetch_california_housing()"
      ],
      "execution_count": 4,
      "outputs": [
        {
          "output_type": "stream",
          "text": [
            "Downloading Cal. housing from https://ndownloader.figshare.com/files/5976036 to /root/scikit_learn_data\n"
          ],
          "name": "stderr"
        }
      ]
    },
    {
      "cell_type": "code",
      "metadata": {
        "id": "1AoN8Ge3-ZAD",
        "colab_type": "code",
        "colab": {}
      },
      "source": [
        "X = pd.DataFrame(data=data.data, columns=data.feature_names)\n",
        "y = data.target"
      ],
      "execution_count": 0,
      "outputs": []
    },
    {
      "cell_type": "code",
      "metadata": {
        "id": "AK2BlKktjgN1",
        "colab_type": "code",
        "colab": {}
      },
      "source": [
        "  pline = Pipeline([('std_scaler', StandardScaler())])\n",
        "  X_scaled = pline.fit_transform(X)"
      ],
      "execution_count": 0,
      "outputs": []
    },
    {
      "cell_type": "code",
      "metadata": {
        "id": "_5kyeowr-a1t",
        "colab_type": "code",
        "colab": {}
      },
      "source": [
        "X_train, X_val, y_train, y_val = train_test_split(X_scaled, y, test_size=0.3, random_state=44)"
      ],
      "execution_count": 0,
      "outputs": []
    },
    {
      "cell_type": "code",
      "metadata": {
        "id": "4U4Lg1sS-ueG",
        "colab_type": "code",
        "colab": {}
      },
      "source": [
        ""
      ],
      "execution_count": 0,
      "outputs": []
    },
    {
      "cell_type": "code",
      "metadata": {
        "id": "8bUkpn1V_Rvy",
        "colab_type": "code",
        "colab": {}
      },
      "source": [
        "from sklearn.metrics import mean_squared_log_error\n",
        "from sklearn.metrics import mean_squared_error\n",
        "\n",
        "from sklearn.model_selection import cross_val_score\n",
        "from sklearn.model_selection import cross_validate\n",
        "from sklearn.model_selection import train_test_split\n",
        "from sklearn.model_selection import GridSearchCV\n",
        "\n",
        "from sklearn.linear_model import LinearRegression\n",
        "from sklearn.tree import DecisionTreeRegressor\n",
        "from sklearn.linear_model import Ridge\n",
        "from sklearn.linear_model import Lasso\n",
        "from sklearn.linear_model import SGDRegressor\n",
        "from sklearn.ensemble import RandomForestRegressor\n",
        "from sklearn.svm import SVR\n"
      ],
      "execution_count": 0,
      "outputs": []
    },
    {
      "cell_type": "code",
      "metadata": {
        "id": "MQ8QCC5bATFT",
        "colab_type": "code",
        "colab": {}
      },
      "source": [
        "lin_reg = LinearRegression()\n",
        "tree_reg = DecisionTreeRegressor()\n",
        "ridge_reg = Ridge()\n",
        "lasso_reg  = Lasso()\n",
        "sgd_reg = SGDRegressor(max_iter=10000)\n",
        "svr = SVR()\n",
        "rnd_frst = RandomForestRegressor()"
      ],
      "execution_count": 0,
      "outputs": []
    },
    {
      "cell_type": "code",
      "metadata": {
        "id": "wSn28bh1o1v_",
        "colab_type": "code",
        "colab": {
          "base_uri": "https://localhost:8080/",
          "height": 34
        },
        "outputId": "614f13f3-3289-4ede-b2b3-531584c71f19"
      },
      "source": [
        "print(\"X_train size: {}, y_train size: {}, X_val size: {}, y_val size: {}\".format(X_train.shape, y_train.shape, X_val.shape, y_val.shape))"
      ],
      "execution_count": 32,
      "outputs": [
        {
          "output_type": "stream",
          "text": [
            "X_train size: (14448, 8), y_train size: (14448,), X_val size: (6192, 8), y_val size: (6192,)\n"
          ],
          "name": "stdout"
        }
      ]
    },
    {
      "cell_type": "code",
      "metadata": {
        "id": "m1AYNbK7o2cu",
        "colab_type": "code",
        "colab": {
          "base_uri": "https://localhost:8080/",
          "height": 136
        },
        "outputId": "3c35be93-1603-49ce-8ca2-c91a5b5eb541"
      },
      "source": [
        "lin_reg.fit(X_train, y_train)\n",
        "tree_reg.fit(X_train, y_train)\n",
        "ridge_reg.fit(X_train, y_train)\n",
        "lasso_reg.fit(X_train, y_train)\n",
        "sgd_reg.fit(X_train, y_train)\n",
        "svr.fit(X_train, y_train)\n",
        "rnd_frst.fit(X_train, y_train)"
      ],
      "execution_count": 36,
      "outputs": [
        {
          "output_type": "execute_result",
          "data": {
            "text/plain": [
              "RandomForestRegressor(bootstrap=True, ccp_alpha=0.0, criterion='mse',\n",
              "                      max_depth=None, max_features='auto', max_leaf_nodes=None,\n",
              "                      max_samples=None, min_impurity_decrease=0.0,\n",
              "                      min_impurity_split=None, min_samples_leaf=1,\n",
              "                      min_samples_split=2, min_weight_fraction_leaf=0.0,\n",
              "                      n_estimators=100, n_jobs=None, oob_score=False,\n",
              "                      random_state=None, verbose=0, warm_start=False)"
            ]
          },
          "metadata": {
            "tags": []
          },
          "execution_count": 36
        }
      ]
    },
    {
      "cell_type": "code",
      "metadata": {
        "id": "35CGHGsHpEqm",
        "colab_type": "code",
        "colab": {}
      },
      "source": [
        "param_grid = [{'n_estimators': [3, 10, 30], 'max_features': [2, 4, 6, 8]}, \n",
        "               {'bootstrap': [False], 'n_estimators': [3, 10], 'max_features': [2, 3, 4]}]"
      ],
      "execution_count": 0,
      "outputs": []
    },
    {
      "cell_type": "code",
      "metadata": {
        "id": "LMEBl0narpW4",
        "colab_type": "code",
        "colab": {}
      },
      "source": [
        "grid_search = GridSearchCV(rnd_frst, param_grid, cv=5, scoring=\"r2\")"
      ],
      "execution_count": 0,
      "outputs": []
    },
    {
      "cell_type": "code",
      "metadata": {
        "id": "2l8NySOSrzRY",
        "colab_type": "code",
        "colab": {}
      },
      "source": [
        "grid_search.fit(X_scaled, y)"
      ],
      "execution_count": 0,
      "outputs": []
    },
    {
      "cell_type": "code",
      "metadata": {
        "id": "lMvhVUwtr9L1",
        "colab_type": "code",
        "colab": {}
      },
      "source": [
        ""
      ],
      "execution_count": 0,
      "outputs": []
    }
  ]
}