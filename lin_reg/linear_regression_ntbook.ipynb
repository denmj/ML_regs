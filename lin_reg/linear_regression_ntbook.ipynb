{
 "cells": [
  {
   "cell_type": "code",
   "execution_count": 18,
   "metadata": {},
   "outputs": [
    {
     "name": "stdout",
     "output_type": "stream",
     "text": [
      "The autoreload extension is already loaded. To reload it, use:\n",
      "  %reload_ext autoreload\n"
     ]
    }
   ],
   "source": [
    "%load_ext autoreload\n",
    "%autoreload 2"
   ]
  },
  {
   "cell_type": "code",
   "execution_count": 20,
   "metadata": {},
   "outputs": [],
   "source": [
    "import numpy as np\n",
    "from sklearn.linear_model import LinearRegression, Ridge\n",
    "from scipy.optimize import minimize\n",
    "\n",
    "\n",
    "# Import linear regression methods from Linear_Regression.py\n",
    "from Linear_Regression import normal_equation, lu_decomposition, qr_decomposition, cholesky_decomposition, \\\n",
    "lu_decomposition_simple, gradient_descent\n",
    "\n",
    "# Generate synthetic data for simple linear regression (one feature)\n",
    "np.random.seed(0)\n",
    "N_simple = 100\n",
    "\n",
    "# Generate feature matrix X with N samples and 1 feature\n",
    "X_simple = np.random.rand(N_simple, 1)\n",
    "\n",
    "# Add a column of ones to X for the intercept term\n",
    "X_simple_bias = np.hstack([np.ones((N_simple, 1)), X_simple])\n",
    "\n",
    "# Generate true beta coefficients\n",
    "true_beta_simple = np.array([1.0, 3.0]).reshape(-1, 1)\n",
    "\n",
    "# Generate target variable Y = X * true_beta + noise\n",
    "Y_simple = X_simple_bias.dot(true_beta_simple) + np.random.normal(0, 0.5, (N_simple, 1))\n",
    "\n",
    "# Initialize dictionary to store solutions from different methods\n",
    "beta_solutions_simple = {}"
   ]
  },
  {
   "cell_type": "code",
   "execution_count": 23,
   "metadata": {},
   "outputs": [
    {
     "name": "stdout",
     "output_type": "stream",
     "text": [
      "X shape: (100, 2)\n",
      "Y shape: (100, 1)\n",
      "theta shape: (2,)\n"
     ]
    },
    {
     "ename": "ValueError",
     "evalue": "operands could not be broadcast together with shapes (2,) (2,100) ",
     "output_type": "error",
     "traceback": [
      "\u001b[1;31m---------------------------------------------------------------------------\u001b[0m",
      "\u001b[1;31mValueError\u001b[0m                                Traceback (most recent call last)",
      "\u001b[1;32mm:\\ML\\ML_regs\\lin_reg\\linear_regression_ntbook.ipynb Cell 3\u001b[0m line \u001b[0;36m2\n\u001b[0;32m      <a href='vscode-notebook-cell:/m%3A/ML/ML_regs/lin_reg/linear_regression_ntbook.ipynb#W6sZmlsZQ%3D%3D?line=0'>1</a>\u001b[0m \u001b[39m# Gradient descent \u001b[39;00m\n\u001b[1;32m----> <a href='vscode-notebook-cell:/m%3A/ML/ML_regs/lin_reg/linear_regression_ntbook.ipynb#W6sZmlsZQ%3D%3D?line=1'>2</a>\u001b[0m beta_solutions_simple[\u001b[39m'\u001b[39m\u001b[39mgradient_descent\u001b[39m\u001b[39m'\u001b[39m] \u001b[39m=\u001b[39m gradient_descent(X_simple_bias, Y_simple, alpha\u001b[39m=\u001b[39;49m\u001b[39m0.1\u001b[39;49m, num_iter\u001b[39m=\u001b[39;49m\u001b[39m10\u001b[39;49m)\n",
      "File \u001b[1;32mm:\\ML\\ML_regs\\lin_reg\\Linear_Regression.py:131\u001b[0m, in \u001b[0;36mgradient_descent\u001b[1;34m(X, Y, alpha, num_iter)\u001b[0m\n\u001b[0;32m    129\u001b[0m     residual \u001b[39m=\u001b[39m X\u001b[39m.\u001b[39mdot(theta) \u001b[39m-\u001b[39m Y\n\u001b[0;32m    130\u001b[0m     grad \u001b[39m=\u001b[39m (\u001b[39m1\u001b[39m\u001b[39m/\u001b[39m m)  \u001b[39m*\u001b[39m X\u001b[39m.\u001b[39mT\u001b[39m.\u001b[39mdot(residual)\n\u001b[1;32m--> 131\u001b[0m     theta \u001b[39m=\u001b[39m theta \u001b[39m-\u001b[39;49m alpha \u001b[39m*\u001b[39;49m grad\n\u001b[0;32m    132\u001b[0m     \u001b[39mprint\u001b[39m(theta)\n\u001b[0;32m    133\u001b[0m \u001b[39mreturn\u001b[39;00m theta\n",
      "\u001b[1;31mValueError\u001b[0m: operands could not be broadcast together with shapes (2,) (2,100) "
     ]
    }
   ],
   "source": [
    "# Gradient descent \n",
    "beta_solutions_simple['gradient_descent'] = gradient_descent(X_simple_bias, Y_simple, alpha=0.1, num_iter=10)"
   ]
  },
  {
   "cell_type": "code",
   "execution_count": null,
   "metadata": {},
   "outputs": [],
   "source": []
  }
 ],
 "metadata": {
  "kernelspec": {
   "display_name": ".venv",
   "language": "python",
   "name": "python3"
  },
  "language_info": {
   "codemirror_mode": {
    "name": "ipython",
    "version": 3
   },
   "file_extension": ".py",
   "mimetype": "text/x-python",
   "name": "python",
   "nbconvert_exporter": "python",
   "pygments_lexer": "ipython3",
   "version": "3.11.3"
  }
 },
 "nbformat": 4,
 "nbformat_minor": 2
}
