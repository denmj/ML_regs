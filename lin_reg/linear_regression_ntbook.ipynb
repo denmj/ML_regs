{
 "cells": [
  {
   "cell_type": "code",
   "execution_count": 20,
   "metadata": {},
   "outputs": [
    {
     "data": {
      "text/plain": [
       "<module 'Linear_Regression' from '/workspaces/ML_regs/lin_reg/Linear_Regression.py'>"
      ]
     },
     "execution_count": 20,
     "metadata": {},
     "output_type": "execute_result"
    }
   ],
   "source": [
    "\n",
    "from importlib import reload\n",
    "import numpy as np\n",
    "from sklearn.linear_model import LinearRegression, Ridge\n",
    "from scipy.optimize import minimize\n",
    "import scipy as sc\n",
    "\n",
    "# Import linear regression methods from Linear_Regression.py\n",
    "import Linear_Regression as LR \n",
    "from Linear_Regression import normal_equation, lu_decomposition\n",
    "\n",
    "# Generate synthetic data for simple linear regression (one feature)\n",
    "np.random.seed(0)\n",
    "N_simple = 100\n",
    "\n",
    "# Generate feature matrix X with N samples and 1 feature\n",
    "X_simple = np.random.rand(N_simple, 1)\n",
    "\n",
    "# Add a column of ones to X for the intercept term\n",
    "X_simple_bias = np.hstack([np.ones((N_simple, 1)), X_simple])\n",
    "\n",
    "# Generate true beta coefficients\n",
    "true_beta_simple = np.array([1.0, 3.0]).reshape(-1, 1)\n",
    "\n",
    "# Generate target variable Y = X * true_beta + noise\n",
    "Y_simple = X_simple_bias.dot(true_beta_simple) + np.random.normal(0, 0.5, (N_simple, 1))\n",
    "\n",
    "# Initialize dictionary to store solutions from different methods\n",
    "beta_solutions_simple = {}\n",
    "\n",
    "\n",
    "reload(LR)"
   ]
  },
  {
   "cell_type": "code",
   "execution_count": 21,
   "metadata": {},
   "outputs": [],
   "source": [
    "ne_parameters = normal_equation(X_simple_bias, Y_simple)\n",
    "lu_parameters = lu_decomposition(X_simple_bias, Y_simple)"
   ]
  },
  {
   "cell_type": "code",
   "execution_count": 22,
   "metadata": {},
   "outputs": [
    {
     "data": {
      "text/plain": [
       "array([[1.11107554],\n",
       "       [2.96846751]])"
      ]
     },
     "execution_count": 22,
     "metadata": {},
     "output_type": "execute_result"
    }
   ],
   "source": [
    "ne_parameters"
   ]
  },
  {
   "cell_type": "code",
   "execution_count": 23,
   "metadata": {},
   "outputs": [
    {
     "data": {
      "text/plain": [
       "array([1.11107554, 2.96846751])"
      ]
     },
     "execution_count": 23,
     "metadata": {},
     "output_type": "execute_result"
    }
   ],
   "source": [
    "lu_parameters"
   ]
  },
  {
   "cell_type": "code",
   "execution_count": null,
   "metadata": {},
   "outputs": [],
   "source": []
  }
 ],
 "metadata": {
  "kernelspec": {
   "display_name": "Python 3 (ipykernel)",
   "language": "python",
   "name": "python3"
  },
  "language_info": {
   "codemirror_mode": {
    "name": "ipython",
    "version": 3
   },
   "file_extension": ".py",
   "mimetype": "text/x-python",
   "name": "python",
   "nbconvert_exporter": "python",
   "pygments_lexer": "ipython3",
   "version": "3.10.8"
  }
 },
 "nbformat": 4,
 "nbformat_minor": 2
}
