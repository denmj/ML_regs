{
 "cells": [
  {
   "cell_type": "code",
   "execution_count": 28,
   "metadata": {},
   "outputs": [
    {
     "name": "stdout",
     "output_type": "stream",
     "text": [
      "The autoreload extension is already loaded. To reload it, use:\n",
      "  %reload_ext autoreload\n"
     ]
    }
   ],
   "source": [
    "%load_ext autoreload\n",
    "%autoreload 2"
   ]
  },
  {
   "cell_type": "code",
   "execution_count": 43,
   "metadata": {},
   "outputs": [
    {
     "name": "stderr",
     "output_type": "stream",
     "text": [
      "m:\\ML\\ML_regs\\.venv\\Lib\\site-packages\\sklearn\\preprocessing\\_encoders.py:975: FutureWarning: `sparse` was renamed to `sparse_output` in version 1.2 and will be removed in 1.4. `sparse_output` is ignored unless you leave `sparse` to its default value.\n",
      "  warnings.warn(\n"
     ]
    }
   ],
   "source": [
    "import numpy as np\n",
    "import pandas as pd\n",
    "import PreClf, MultiPreClf\n",
    "from sklearn.datasets import fetch_openml\n",
    "import matplotlib.pyplot as plt \n",
    "from sklearn.preprocessing import OneHotEncoder\n",
    "from sklearn.model_selection import train_test_split\n",
    "\n",
    "# MLP from sklearn\n",
    "from sklearn.neural_network import MLPClassifier\n",
    "\n",
    "\n",
    "# MNIST \n",
    "X_, y_ = fetch_openml(\"mnist_784\", version=1, return_X_y=True, as_frame=False, parser=\"pandas\")\n",
    "# Preprocessing normalisation \n",
    "X_ = X_ / 255\n",
    "\n",
    "y_ = y_.astype(int)\n",
    "\n",
    "# On-hot encoding\n",
    "encoder = OneHotEncoder(sparse=False)\n",
    "y_one_hot = encoder.fit_transform(y_.reshape(-1, 1))\n",
    "\n",
    "\n",
    "X_train, X_test, y_train, y_test = train_test_split(X_, y_one_hot, test_size=0.2, random_state=42)\n"
   ]
  },
  {
   "cell_type": "code",
   "execution_count": 44,
   "metadata": {},
   "outputs": [],
   "source": [
    "sk_mlp = MLPClassifier(hidden_layer_sizes=(100, 100), activation='relu', solver='adam', alpha=0.0001, batch_size='auto',\n",
    "                          learning_rate='constant', learning_rate_init=0.001, power_t=0.5, max_iter=200, shuffle=True,\n",
    "                            random_state=None, tol=0.0001, verbose=False, warm_start=False, momentum=0.9,\n",
    "                                nesterovs_momentum=True, early_stopping=False, validation_fraction=0.1, beta_1=0.9,\n",
    "                                    beta_2=0.999, epsilon=1e-08, n_iter_no_change=10, max_fun=15000)"
   ]
  },
  {
   "cell_type": "code",
   "execution_count": 45,
   "metadata": {},
   "outputs": [
    {
     "name": "stdout",
     "output_type": "stream",
     "text": [
      "Accuracy:  9.9585\n"
     ]
    }
   ],
   "source": [
    "# Train \n",
    "sk_mlp.fit(X_train, y_train)\n",
    "\n",
    "# Predict\n",
    "y_pred = sk_mlp.predict(X_test)\n",
    "\n",
    "\n"
   ]
  },
  {
   "cell_type": "code",
   "execution_count": 57,
   "metadata": {},
   "outputs": [
    {
     "name": "stdout",
     "output_type": "stream",
     "text": [
      "Accuracy:  9.9585\n"
     ]
    }
   ],
   "source": [
    "# Accuracy\n",
    "accuracy = np.sum(y_pred == y_test) / len(y_test)\n",
    "print(\"Accuracy: \", accuracy)"
   ]
  },
  {
   "cell_type": "code",
   "execution_count": 49,
   "metadata": {},
   "outputs": [
    {
     "data": {
      "text/plain": [
       "array([[0., 0., 0., ..., 0., 1., 0.],\n",
       "       [0., 0., 0., ..., 0., 0., 0.],\n",
       "       [0., 0., 0., ..., 0., 1., 0.],\n",
       "       ...,\n",
       "       [0., 0., 1., ..., 0., 0., 0.],\n",
       "       [0., 0., 0., ..., 1., 0., 0.],\n",
       "       [0., 1., 0., ..., 0., 0., 0.]])"
      ]
     },
     "execution_count": 49,
     "metadata": {},
     "output_type": "execute_result"
    }
   ],
   "source": [
    "y_test "
   ]
  },
  {
   "cell_type": "code",
   "execution_count": 50,
   "metadata": {},
   "outputs": [
    {
     "data": {
      "text/plain": [
       "array([[0, 0, 0, ..., 0, 1, 0],\n",
       "       [0, 0, 0, ..., 0, 0, 0],\n",
       "       [0, 0, 0, ..., 0, 1, 0],\n",
       "       ...,\n",
       "       [0, 0, 1, ..., 0, 0, 0],\n",
       "       [0, 0, 0, ..., 1, 0, 0],\n",
       "       [0, 1, 0, ..., 0, 0, 0]])"
      ]
     },
     "execution_count": 50,
     "metadata": {},
     "output_type": "execute_result"
    }
   ],
   "source": [
    "y_pred"
   ]
  },
  {
   "cell_type": "code",
   "execution_count": 58,
   "metadata": {},
   "outputs": [
    {
     "name": "stdout",
     "output_type": "stream",
     "text": [
      "Accuracy:  99.58500000000001 %\n"
     ]
    }
   ],
   "source": [
    "# accuract as percentage\n",
    "accuracy_ = accuracy *10\n",
    "print(\"Accuracy: \", accuracy_, \"%\")"
   ]
  },
  {
   "cell_type": "code",
   "execution_count": 40,
   "metadata": {},
   "outputs": [],
   "source": [
    "model = MultiPreClf.MultilayerPerceptron(alpha=0.0001, n_iterations=10, input_layer_size=784, hidden_layers_size=[128, 64], n_outputs=10, regularization=\"l2\", lambda_reg=0.1)\n"
   ]
  },
  {
   "cell_type": "code",
   "execution_count": 41,
   "metadata": {},
   "outputs": [
    {
     "name": "stdout",
     "output_type": "stream",
     "text": [
      "Iteration: 0\n",
      "Epoch: 0, Training loss : 2.301666237319578\n",
      "Epoch: 0, valid loss: 2.301503131378247\n",
      "Iteration: 1\n",
      "Epoch: 1, Training loss : 2.3013652418849078\n",
      "Epoch: 1, valid loss: 2.3011329247374377\n",
      "Iteration: 2\n",
      "Epoch: 2, Training loss : 2.301271433446024\n",
      "Epoch: 2, valid loss: 2.3009895433602177\n",
      "Iteration: 3\n",
      "Epoch: 3, Training loss : 2.3012371189819825\n",
      "Epoch: 3, valid loss: 2.300921406935343\n",
      "Iteration: 4\n",
      "Epoch: 4, Training loss : 2.301227822822713\n",
      "Epoch: 4, valid loss: 2.300904965282396\n",
      "Iteration: 5\n",
      "Epoch: 5, Training loss : 2.3012234680734944\n",
      "Epoch: 5, valid loss: 2.3008980482555033\n",
      "Iteration: 6\n",
      "Epoch: 6, Training loss : 2.3012229371086868\n",
      "Epoch: 6, valid loss: 2.3008926199374007\n",
      "Iteration: 7\n",
      "Epoch: 7, Training loss : 2.301221775522784\n",
      "Epoch: 7, valid loss: 2.3009000829532065\n",
      "Iteration: 8\n",
      "Epoch: 8, Training loss : 2.3012215215295635\n",
      "Epoch: 8, valid loss: 2.3008993461480265\n",
      "Iteration: 9\n",
      "Epoch: 9, Training loss : 2.3012217842826597\n",
      "Epoch: 9, valid loss: 2.3008959596149645\n"
     ]
    }
   ],
   "source": [
    "training_loss, validation_loss = model.train(X_train, y_train, X_test, y_test)\n"
   ]
  },
  {
   "cell_type": "code",
   "execution_count": null,
   "metadata": {},
   "outputs": [],
   "source": []
  },
  {
   "cell_type": "code",
   "execution_count": 34,
   "metadata": {},
   "outputs": [
    {
     "name": "stdout",
     "output_type": "stream",
     "text": [
      "Test Accuracy: 11.43%\n"
     ]
    }
   ],
   "source": [
    "# Step 3: Evaluate the Model\n",
    "y_pred = model.predict(X_test)\n",
    "y_pred_classes = np.argmax(y_pred, axis=1)\n",
    "y_test_classes = np.argmax(y_test, axis=1)\n",
    "\n",
    "# Step 4: Calculate Accuracy\n",
    "accuracy = model.accuracy(y_test_classes, y_pred_classes)\n",
    "print(f\"Test Accuracy: {accuracy * 100:.2f}%\")"
   ]
  },
  {
   "cell_type": "code",
   "execution_count": 37,
   "metadata": {},
   "outputs": [
    {
     "data": {
      "text/plain": [
       "array([[0.0984442 , 0.11360162, 0.09985351, ..., 0.10101594, 0.09880851,\n",
       "        0.09915438],\n",
       "       [0.0984442 , 0.11360162, 0.09985351, ..., 0.10101594, 0.09880851,\n",
       "        0.09915438],\n",
       "       [0.0984442 , 0.11360162, 0.09985351, ..., 0.10101594, 0.09880851,\n",
       "        0.09915438],\n",
       "       ...,\n",
       "       [0.0984442 , 0.11360162, 0.09985351, ..., 0.10101594, 0.09880851,\n",
       "        0.09915438],\n",
       "       [0.0984442 , 0.11360162, 0.09985351, ..., 0.10101594, 0.09880851,\n",
       "        0.09915438],\n",
       "       [0.0984442 , 0.11360162, 0.09985351, ..., 0.10101594, 0.09880851,\n",
       "        0.09915438]])"
      ]
     },
     "execution_count": 37,
     "metadata": {},
     "output_type": "execute_result"
    }
   ],
   "source": [
    "y_pred"
   ]
  },
  {
   "cell_type": "code",
   "execution_count": 35,
   "metadata": {},
   "outputs": [
    {
     "data": {
      "text/plain": [
       "array([1, 1, 1, ..., 1, 1, 1], dtype=int64)"
      ]
     },
     "execution_count": 35,
     "metadata": {},
     "output_type": "execute_result"
    }
   ],
   "source": [
    "y_pred_classes"
   ]
  },
  {
   "cell_type": "code",
   "execution_count": 36,
   "metadata": {},
   "outputs": [
    {
     "data": {
      "text/plain": [
       "array([8, 4, 8, ..., 2, 7, 1], dtype=int64)"
      ]
     },
     "execution_count": 36,
     "metadata": {},
     "output_type": "execute_result"
    }
   ],
   "source": [
    "y_test_classes"
   ]
  },
  {
   "cell_type": "code",
   "execution_count": null,
   "metadata": {},
   "outputs": [],
   "source": []
  }
 ],
 "metadata": {
  "kernelspec": {
   "display_name": ".venv",
   "language": "python",
   "name": "python3"
  },
  "language_info": {
   "codemirror_mode": {
    "name": "ipython",
    "version": 3
   },
   "file_extension": ".py",
   "mimetype": "text/x-python",
   "name": "python",
   "nbconvert_exporter": "python",
   "pygments_lexer": "ipython3",
   "version": "3.11.3"
  }
 },
 "nbformat": 4,
 "nbformat_minor": 2
}
