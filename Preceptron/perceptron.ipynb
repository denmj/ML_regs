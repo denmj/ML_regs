{
 "cells": [
  {
   "cell_type": "code",
   "execution_count": 44,
   "metadata": {},
   "outputs": [
    {
     "name": "stdout",
     "output_type": "stream",
     "text": [
      "The autoreload extension is already loaded. To reload it, use:\n",
      "  %reload_ext autoreload\n"
     ]
    }
   ],
   "source": [
    "%load_ext autoreload\n",
    "%autoreload 2"
   ]
  },
  {
   "cell_type": "code",
   "execution_count": 62,
   "metadata": {},
   "outputs": [
    {
     "name": "stderr",
     "output_type": "stream",
     "text": [
      "m:\\ML\\ML_regs\\.venv\\Lib\\site-packages\\sklearn\\preprocessing\\_encoders.py:975: FutureWarning: `sparse` was renamed to `sparse_output` in version 1.2 and will be removed in 1.4. `sparse_output` is ignored unless you leave `sparse` to its default value.\n",
      "  warnings.warn(\n"
     ]
    }
   ],
   "source": [
    "import numpy as np\n",
    "import pandas as pd\n",
    "import PreClf, MultiPreClf\n",
    "from sklearn.datasets import fetch_openml\n",
    "from sklearn.datasets import make_moons\n",
    "\n",
    "import matplotlib.pyplot as plt \n",
    "from sklearn.preprocessing import OneHotEncoder\n",
    "from sklearn.model_selection import train_test_split\n",
    "\n",
    "# MLP from sklearn\n",
    "from sklearn.neural_network import MLPClassifier\n",
    "\n",
    "\n",
    "# MNIST \n",
    "X_, y_ = fetch_openml(\"mnist_784\", version=1, return_X_y=True, as_frame=False, parser=\"pandas\")\n",
    "# Preprocessing normalisation \n",
    "X_ = X_ / 255\n",
    "\n",
    "y_ = y_.astype(int)\n",
    "\n",
    "# On-hot encoding\n",
    "encoder = OneHotEncoder(sparse=False)\n",
    "y_one_hot = encoder.fit_transform(y_.reshape(-1, 1))\n",
    "\n",
    "\n",
    "X_train, X_test, y_train, y_test = train_test_split(X_, y_one_hot, test_size=0.2, random_state=42)\n",
    "\n",
    "\n",
    "sk_mlp = MLPClassifier(hidden_layer_sizes=(100, 100), activation='relu', solver='adam', alpha=0.0001, batch_size='auto',\n",
    "                          learning_rate='constant', learning_rate_init=0.001, power_t=0.5, max_iter=200, shuffle=True,\n",
    "                            random_state=None, tol=0.0001, verbose=False, warm_start=False, momentum=0.9,\n",
    "                                nesterovs_momentum=True, early_stopping=False, validation_fraction=0.1, beta_1=0.9,\n",
    "                                    beta_2=0.999, epsilon=1e-08, n_iter_no_change=10, max_fun=15000)\n"
   ]
  },
  {
   "cell_type": "code",
   "execution_count": 45,
   "metadata": {},
   "outputs": [
    {
     "name": "stdout",
     "output_type": "stream",
     "text": [
      "Accuracy:  9.9585\n"
     ]
    }
   ],
   "source": [
    "# # Train \n",
    "# sk_mlp.fit(X_train, y_train)\n",
    "\n",
    "# # Predict\n",
    "# y_pred = sk_mlp.predict(X_test)\n",
    "\n",
    "\n"
   ]
  },
  {
   "cell_type": "code",
   "execution_count": 63,
   "metadata": {},
   "outputs": [],
   "source": [
    "model = MultiPreClf.MultilayerPerceptron(alpha=0.01, \n",
    "                                         n_iterations=2, \n",
    "                                         input_layer_size=784, \n",
    "                                         hidden_layers_size=[32, 16], \n",
    "                                         n_outputs=10, \n",
    "                                         regularization=\"l2\", \n",
    "                                         lambda_reg=0.1)\n",
    "\n",
    "model_two = MultiPreClf.MLP(alpha=0.01, n_iterations=5, \n",
    "                            input_layer_size=784, hidden_layers_size=[128, 64], \n",
    "                            n_outputs=10,\n",
    "                            regularization=\"l2\", \n",
    "                            lambda_reg=0.1)"
   ]
  },
  {
   "cell_type": "code",
   "execution_count": 60,
   "metadata": {},
   "outputs": [
    {
     "name": "stdout",
     "output_type": "stream",
     "text": [
      "Iteration: 0\n",
      "Epoch: 0, Training loss : 1.8327966395874447\n",
      "Iteration: 1\n",
      "Epoch: 1, Training loss : 7.894577455979586\n",
      "Iteration: 2\n",
      "Epoch: 2, Training loss : 7.894577455979586\n",
      "Iteration: 3\n",
      "Epoch: 3, Training loss : 7.894577455979586\n",
      "Iteration: 4\n",
      "Epoch: 4, Training loss : 7.894577455979586\n",
      "Iteration: 5\n",
      "Epoch: 5, Training loss : 7.894577455979586\n",
      "Iteration: 6\n",
      "Epoch: 6, Training loss : 7.894577455979586\n",
      "Iteration: 7\n",
      "Epoch: 7, Training loss : 7.894577455979586\n",
      "Iteration: 8\n",
      "Epoch: 8, Training loss : 7.894577455979586\n",
      "Iteration: 9\n",
      "Epoch: 9, Training loss : 7.894577455979586\n",
      "Iteration: 10\n",
      "Epoch: 10, Training loss : 7.894577455979586\n",
      "Iteration: 11\n",
      "Epoch: 11, Training loss : 7.894577455979586\n",
      "Iteration: 12\n",
      "Epoch: 12, Training loss : 7.894577455979586\n",
      "Iteration: 13\n",
      "Epoch: 13, Training loss : 7.894577455979586\n",
      "Iteration: 14\n",
      "Epoch: 14, Training loss : 7.894577455979586\n",
      "Iteration: 15\n",
      "Epoch: 15, Training loss : 7.894577455979586\n",
      "Iteration: 16\n",
      "Epoch: 16, Training loss : 7.894577455979586\n",
      "Iteration: 17\n",
      "Epoch: 17, Training loss : 7.894577455979586\n",
      "Iteration: 18\n",
      "Epoch: 18, Training loss : 7.894577455979586\n",
      "Iteration: 19\n",
      "Epoch: 19, Training loss : 7.894577455979586\n",
      "Iteration: 20\n",
      "Epoch: 20, Training loss : 7.894577455979586\n",
      "Iteration: 21\n",
      "Epoch: 21, Training loss : 7.894577455979586\n",
      "Iteration: 22\n",
      "Epoch: 22, Training loss : 10.526103277972783\n",
      "Iteration: 23\n",
      "Epoch: 23, Training loss : 10.526103277972783\n",
      "Iteration: 24\n",
      "Epoch: 24, Training loss : 7.894577455979586\n",
      "Iteration: 25\n",
      "Epoch: 25, Training loss : 7.894577455979586\n",
      "Iteration: 26\n",
      "Epoch: 26, Training loss : 7.894577455979586\n",
      "Iteration: 27\n",
      "Epoch: 27, Training loss : 7.894577455979586\n",
      "Iteration: 28\n",
      "Epoch: 28, Training loss : 7.894577455979586\n",
      "Iteration: 29\n",
      "Epoch: 29, Training loss : 7.894577455979586\n",
      "Iteration: 30\n",
      "Epoch: 30, Training loss : 7.894577455979586\n",
      "Iteration: 31\n",
      "Epoch: 31, Training loss : 7.894577455979586\n",
      "Iteration: 32\n",
      "Epoch: 32, Training loss : 7.894577455979586\n",
      "Iteration: 33\n",
      "Epoch: 33, Training loss : 7.894577455979586\n",
      "Iteration: 34\n",
      "Epoch: 34, Training loss : 7.894577455979586\n",
      "Iteration: 35\n",
      "Epoch: 35, Training loss : 7.894577455979586\n",
      "Iteration: 36\n",
      "Epoch: 36, Training loss : 7.894577455979586\n",
      "Iteration: 37\n",
      "Epoch: 37, Training loss : 7.894577455979586\n",
      "Iteration: 38\n",
      "Epoch: 38, Training loss : 7.894577455979586\n",
      "Iteration: 39\n",
      "Epoch: 39, Training loss : 7.894577455979586\n",
      "Iteration: 40\n",
      "Epoch: 40, Training loss : 7.894577455979586\n",
      "Iteration: 41\n",
      "Epoch: 41, Training loss : 7.894577455979586\n",
      "Iteration: 42\n",
      "Epoch: 42, Training loss : 7.894577455979586\n",
      "Iteration: 43\n",
      "Epoch: 43, Training loss : 7.894577455979586\n",
      "Iteration: 44\n",
      "Epoch: 44, Training loss : 7.894577455979586\n",
      "Iteration: 45\n",
      "Epoch: 45, Training loss : 7.894577455979586\n",
      "Iteration: 46\n",
      "Epoch: 46, Training loss : 7.894577455979586\n",
      "Iteration: 47\n",
      "Epoch: 47, Training loss : 7.894577455979586\n",
      "Iteration: 48\n",
      "Epoch: 48, Training loss : 7.894577455979586\n",
      "Iteration: 49\n",
      "Epoch: 49, Training loss : 7.894577455979586\n",
      "Iteration: 50\n",
      "Epoch: 50, Training loss : 7.894577455979586\n",
      "Iteration: 51\n",
      "Epoch: 51, Training loss : 7.894577455979586\n",
      "Iteration: 52\n",
      "Epoch: 52, Training loss : 7.894577455979586\n",
      "Iteration: 53\n",
      "Epoch: 53, Training loss : 7.894577455979586\n",
      "Iteration: 54\n",
      "Epoch: 54, Training loss : 7.894577455979586\n",
      "Iteration: 55\n",
      "Epoch: 55, Training loss : 7.894577455979586\n",
      "Iteration: 56\n",
      "Epoch: 56, Training loss : 7.894577455979586\n",
      "Iteration: 57\n",
      "Epoch: 57, Training loss : 7.894577455979586\n",
      "Iteration: 58\n",
      "Epoch: 58, Training loss : 7.894577455979586\n",
      "Iteration: 59\n",
      "Epoch: 59, Training loss : 7.894577455979586\n",
      "Iteration: 60\n",
      "Epoch: 60, Training loss : 7.894577455979586\n",
      "Iteration: 61\n",
      "Epoch: 61, Training loss : 7.894577455979586\n",
      "Iteration: 62\n",
      "Epoch: 62, Training loss : 7.894577455979586\n",
      "Iteration: 63\n",
      "Epoch: 63, Training loss : 7.894577455979586\n",
      "Iteration: 64\n",
      "Epoch: 64, Training loss : 7.894577455979586\n",
      "Iteration: 65\n",
      "Epoch: 65, Training loss : 7.894577455979586\n",
      "Iteration: 66\n",
      "Epoch: 66, Training loss : 7.894577455979586\n",
      "Iteration: 67\n",
      "Epoch: 67, Training loss : 7.894577455979586\n",
      "Iteration: 68\n",
      "Epoch: 68, Training loss : 7.894577455979586\n",
      "Iteration: 69\n",
      "Epoch: 69, Training loss : 7.894577455979586\n",
      "Iteration: 70\n",
      "Epoch: 70, Training loss : 7.894577455979586\n",
      "Iteration: 71\n",
      "Epoch: 71, Training loss : 7.894577455979586\n",
      "Iteration: 72\n",
      "Epoch: 72, Training loss : 7.894577455979586\n",
      "Iteration: 73\n",
      "Epoch: 73, Training loss : 7.894577455979586\n",
      "Iteration: 74\n",
      "Epoch: 74, Training loss : 7.894577455979586\n",
      "Iteration: 75\n",
      "Epoch: 75, Training loss : 7.894577455979586\n",
      "Iteration: 76\n",
      "Epoch: 76, Training loss : 7.894577455979586\n",
      "Iteration: 77\n",
      "Epoch: 77, Training loss : 7.894577455979586\n",
      "Iteration: 78\n",
      "Epoch: 78, Training loss : 7.894577455979586\n",
      "Iteration: 79\n",
      "Epoch: 79, Training loss : 7.894577455979586\n",
      "Iteration: 80\n",
      "Epoch: 80, Training loss : 7.894577455979586\n",
      "Iteration: 81\n",
      "Epoch: 81, Training loss : 7.894577455979586\n",
      "Iteration: 82\n",
      "Epoch: 82, Training loss : 7.894577455979586\n",
      "Iteration: 83\n",
      "Epoch: 83, Training loss : 7.894577455979586\n",
      "Iteration: 84\n",
      "Epoch: 84, Training loss : 10.526103277972783\n",
      "Iteration: 85\n",
      "Epoch: 85, Training loss : 7.894577455979586\n",
      "Iteration: 86\n",
      "Epoch: 86, Training loss : 7.894577455979586\n",
      "Iteration: 87\n",
      "Epoch: 87, Training loss : 7.894577455979586\n",
      "Iteration: 88\n",
      "Epoch: 88, Training loss : 7.894577455979586\n",
      "Iteration: 89\n",
      "Epoch: 89, Training loss : 7.894577455979586\n",
      "Iteration: 90\n",
      "Epoch: 90, Training loss : 7.894577455979586\n",
      "Iteration: 91\n",
      "Epoch: 91, Training loss : 7.894577455979586\n",
      "Iteration: 92\n",
      "Epoch: 92, Training loss : 7.894577455979586\n",
      "Iteration: 93\n",
      "Epoch: 93, Training loss : 7.894577455979586\n",
      "Iteration: 94\n",
      "Epoch: 94, Training loss : 7.894577455979586\n",
      "Iteration: 95\n",
      "Epoch: 95, Training loss : 7.894577455979586\n",
      "Iteration: 96\n",
      "Epoch: 96, Training loss : 7.894577455979586\n",
      "Iteration: 97\n",
      "Epoch: 97, Training loss : 7.894577455979586\n",
      "Iteration: 98\n",
      "Epoch: 98, Training loss : 7.894577455979586\n",
      "Iteration: 99\n",
      "Epoch: 99, Training loss : 7.894577455979586\n"
     ]
    },
    {
     "name": "stderr",
     "output_type": "stream",
     "text": [
      "m:\\ML\\ML_regs\\Preceptron\\MultiPreClf.py:221: RuntimeWarning: overflow encountered in exp\n",
      "  # load model weights\n"
     ]
    },
    {
     "data": {
      "text/plain": [
       "0.3333333333333333"
      ]
     },
     "execution_count": 60,
     "metadata": {},
     "output_type": "execute_result"
    }
   ],
   "source": [
    "# from sklearn.datasets import make_moons\n",
    "# from sklearn.model_selection import train_test_split\n",
    "# from sklearn.metrics import accuracy_score\n",
    "\n",
    "# # Create a simple dataset\n",
    "# X, y = make_moons(n_samples=100, noise=0.2, random_state=42)\n",
    "\n",
    "# # Reshape y for compatibility with the neural network\n",
    "# y = y.reshape(-1, 1)\n",
    "\n",
    "# # Split into training and test sets\n",
    "# X_train, X_test, y_train, y_test = train_test_split(X, y, test_size=0.3, random_state=42)\n",
    "\n",
    "# # Initialize and train the Multilayer Perceptron\n",
    "# mlp = MultiPreClf.MultilayerPerceptron(alpha=0.01, n_iterations=100, input_layer_size=2, hidden_layers_size=[10], n_outputs=1)\n",
    "# training_loss, validation_loss = mlp.train(X_train, y_train)\n",
    "\n",
    "# # Predict on the test set\n",
    "# y_pred = mlp.predict(X_test)\n",
    "\n",
    "# # Calculate the accuracy\n",
    "# accuracy = accuracy_score(y_test, y_pred)\n",
    "# accuracy\n",
    "\n"
   ]
  },
  {
   "cell_type": "code",
   "execution_count": 53,
   "metadata": {},
   "outputs": [
    {
     "name": "stdout",
     "output_type": "stream",
     "text": [
      "2\n",
      "(16, 10)\n",
      "1\n",
      "(32, 16)\n",
      "0\n",
      "(784, 32)\n"
     ]
    }
   ],
   "source": [
    "for layer in range(len(model.weights) - 1, -1, -1):\n",
    "    print(layer)\n",
    "    print(model.weights[layer].shape)"
   ]
  },
  {
   "cell_type": "code",
   "execution_count": 54,
   "metadata": {},
   "outputs": [
    {
     "name": "stdout",
     "output_type": "stream",
     "text": [
      "1\n",
      "2\n",
      "3\n"
     ]
    }
   ],
   "source": [
    "for layer in range(1, len(model.weights) + 1):\n",
    "    print(layer)"
   ]
  },
  {
   "cell_type": "code",
   "execution_count": 64,
   "metadata": {},
   "outputs": [
    {
     "name": "stdout",
     "output_type": "stream",
     "text": [
      "1\n",
      "2\n",
      "2\n",
      "[[0. 0. 0. 0. 0. 0. 0. 0. 0. 0.]\n",
      " [0. 0. 0. 0. 0. 0. 0. 0. 0. 0.]\n",
      " [0. 0. 0. 0. 0. 0. 0. 0. 0. 0.]\n",
      " [0. 0. 0. 0. 0. 0. 0. 0. 0. 0.]\n",
      " [0. 0. 0. 0. 0. 0. 0. 0. 0. 0.]\n",
      " [0. 0. 0. 0. 0. 0. 0. 0. 0. 0.]\n",
      " [0. 0. 0. 0. 0. 0. 0. 0. 0. 0.]\n",
      " [0. 0. 0. 0. 0. 0. 0. 0. 0. 0.]\n",
      " [0. 0. 0. 0. 0. 0. 0. 0. 0. 0.]\n",
      " [0. 0. 0. 0. 0. 0. 0. 0. 0. 0.]\n",
      " [0. 0. 0. 0. 0. 0. 0. 0. 0. 0.]\n",
      " [0. 0. 0. 0. 0. 0. 0. 0. 0. 0.]\n",
      " [0. 0. 0. 0. 0. 0. 0. 0. 0. 0.]\n",
      " [0. 0. 0. 0. 0. 0. 0. 0. 0. 0.]\n",
      " [0. 0. 0. 0. 0. 0. 0. 0. 0. 0.]\n",
      " [0. 0. 0. 0. 0. 0. 0. 0. 0. 0.]\n",
      " [0. 0. 0. 0. 0. 0. 0. 0. 0. 0.]\n",
      " [0. 0. 0. 0. 0. 0. 0. 0. 0. 0.]\n",
      " [0. 0. 0. 0. 0. 0. 0. 0. 0. 0.]\n",
      " [0. 0. 0. 0. 0. 0. 0. 0. 0. 0.]]\n",
      "3\n",
      "3\n",
      "[[ 0.05499204  0.08150019  0.18593024  0.17522276  0.12085323  0.06222628\n",
      "   0.12030628  0.13700197 -0.96603716  0.02800417]\n",
      " [ 0.09363689  0.08475456  0.0834852   0.10195588  0.14784817  0.10542519\n",
      "  -0.93297797  0.12107748  0.12432236  0.07047224]\n",
      " [-0.93765983  0.07382542  0.15992109  0.12863327  0.12141295  0.1006734\n",
      "   0.08283901  0.14915738  0.05840979  0.06278752]\n",
      " [ 0.09451986  0.12759181  0.10627017  0.09925839 -0.85677418  0.09008986\n",
      "   0.10052552  0.11808044  0.06287196  0.05756616]\n",
      " [-0.9380477   0.05853914  0.25973985  0.10973745  0.11210282  0.06019794\n",
      "   0.09727386  0.12379729  0.03864053  0.07801883]\n",
      " [ 0.08801291  0.1030306   0.10353502  0.09393589  0.11731445  0.09960159\n",
      "   0.07654693  0.14308207  0.08292249 -0.90798195]\n",
      " [ 0.07250997  0.09541996 -0.87358321  0.12645649  0.10573924  0.0665465\n",
      "   0.10789279  0.16792558  0.05785106  0.07324163]\n",
      " [ 0.15687081  0.09118524  0.05537171  0.16714383 -0.8774737   0.12611144\n",
      "   0.09743137  0.06076644  0.05950913  0.06308372]\n",
      " [ 0.08236738 -0.90966976  0.11573658  0.1351922   0.14059027  0.09146889\n",
      "   0.0975491   0.12163036  0.06557589  0.05955908]\n",
      " [ 0.08829709  0.06684321  0.11747205 -0.89972528  0.11378319  0.11457407\n",
      "   0.1124232   0.15906757  0.05482256  0.07244233]\n",
      " [ 0.12276254  0.10098347  0.08922997  0.08863635  0.11248724  0.09973343\n",
      "   0.0748398  -0.89053333  0.08397813  0.11788239]\n",
      " [ 0.10026145 -0.90872756  0.07646905  0.08156473  0.1765308   0.10045533\n",
      "   0.07090887  0.15005336  0.08004003  0.07244394]\n",
      " [ 0.08099845  0.08983649  0.09914611  0.10532157  0.16764493  0.13036104\n",
      "   0.0728079   0.07993875  0.10944956 -0.9355048 ]\n",
      " [-0.92780495  0.07775489  0.13487775  0.10008875  0.09479221  0.09478132\n",
      "   0.08831465  0.16166595  0.06914422  0.10638521]\n",
      " [ 0.11508806  0.06864182  0.09444146  0.11664291  0.14445048 -0.89418924\n",
      "   0.06479481  0.12974147  0.06544335  0.09494489]\n",
      " [ 0.05115273  0.06219388  0.23859535 -0.87028592  0.10113282  0.10008065\n",
      "   0.13730656  0.07499138  0.04602809  0.05880447]\n",
      " [-0.90212689  0.08417448  0.1484615   0.13838294  0.06057118  0.13259879\n",
      "   0.08988506  0.11211344  0.05781099  0.07812852]\n",
      " [ 0.06351251  0.09398468  0.13377583 -0.88426707  0.13515255  0.13791195\n",
      "   0.09820317  0.10783518  0.05296099  0.06093021]\n",
      " [ 0.06156629  0.09439256  0.11610024 -0.85428326  0.10909728  0.15654434\n",
      "   0.09086484  0.10584714  0.06140119  0.05846937]\n",
      " [-0.96876016  0.05053399  0.26751925  0.14549987  0.07619524  0.06152803\n",
      "   0.18991467  0.11419306  0.02503614  0.03833992]]\n"
     ]
    },
    {
     "ename": "ValueError",
     "evalue": "operands could not be broadcast together with shapes (784,10) (784,128) ",
     "output_type": "error",
     "traceback": [
      "\u001b[1;31m---------------------------------------------------------------------------\u001b[0m",
      "\u001b[1;31mValueError\u001b[0m                                Traceback (most recent call last)",
      "\u001b[1;32mm:\\ML\\ML_regs\\Preceptron\\perceptron.ipynb Cell 8\u001b[0m line \u001b[0;36m1\n\u001b[1;32m----> <a href='vscode-notebook-cell:/m%3A/ML/ML_regs/Preceptron/perceptron.ipynb#W6sZmlsZQ%3D%3D?line=0'>1</a>\u001b[0m training_loss, validation_loss \u001b[39m=\u001b[39m model_two\u001b[39m.\u001b[39;49mtrain(X_train, y_train, X_test, y_test)\n",
      "File \u001b[1;32mm:\\ML\\ML_regs\\Preceptron\\MultiPreClf.py:346\u001b[0m, in \u001b[0;36mMLP.train\u001b[1;34m(self, X, y, X_val, y_val, batch_size)\u001b[0m\n\u001b[0;32m    344\u001b[0m     y_batch \u001b[39m=\u001b[39m y_shuffled[j:j \u001b[39m+\u001b[39m batch_size]\n\u001b[0;32m    345\u001b[0m     activations \u001b[39m=\u001b[39m \u001b[39mself\u001b[39m\u001b[39m.\u001b[39mforward_propagation(X_batch)\n\u001b[1;32m--> 346\u001b[0m     \u001b[39mself\u001b[39;49m\u001b[39m.\u001b[39;49mback_propagation(X_batch, y_batch, activations)\n\u001b[0;32m    347\u001b[0m loss \u001b[39m=\u001b[39m \u001b[39mself\u001b[39m\u001b[39m.\u001b[39mcross_entropy_loss(y, \u001b[39mself\u001b[39m\u001b[39m.\u001b[39mforward_propagation(X)[\u001b[39m-\u001b[39m\u001b[39m1\u001b[39m])\n\u001b[0;32m    348\u001b[0m training_loss\u001b[39m.\u001b[39mappend(loss)\n",
      "File \u001b[1;32mm:\\ML\\ML_regs\\Preceptron\\MultiPreClf.py:332\u001b[0m, in \u001b[0;36mMLP.back_propagation\u001b[1;34m(self, X, y, activations)\u001b[0m\n\u001b[0;32m    330\u001b[0m     reg_penalty \u001b[39m=\u001b[39m \u001b[39m0\u001b[39m\n\u001b[0;32m    331\u001b[0m delta \u001b[39m=\u001b[39m error \u001b[39m*\u001b[39m \u001b[39mself\u001b[39m\u001b[39m.\u001b[39meta\n\u001b[1;32m--> 332\u001b[0m \u001b[39mself\u001b[39m\u001b[39m.\u001b[39mweights[\u001b[39m-\u001b[39mlayer] \u001b[39m-\u001b[39m\u001b[39m=\u001b[39m (np\u001b[39m.\u001b[39;49mdot(activations[\u001b[39m-\u001b[39;49mlayer \u001b[39m-\u001b[39;49m \u001b[39m1\u001b[39;49m]\u001b[39m.\u001b[39;49mT, delta) \u001b[39m+\u001b[39;49m reg_penalty)\n\u001b[0;32m    333\u001b[0m \u001b[39mself\u001b[39m\u001b[39m.\u001b[39mbias[\u001b[39m-\u001b[39mlayer] \u001b[39m-\u001b[39m\u001b[39m=\u001b[39m np\u001b[39m.\u001b[39msum(delta, axis\u001b[39m=\u001b[39m\u001b[39m0\u001b[39m, keepdims\u001b[39m=\u001b[39m\u001b[39mTrue\u001b[39;00m)\n",
      "\u001b[1;31mValueError\u001b[0m: operands could not be broadcast together with shapes (784,10) (784,128) "
     ]
    }
   ],
   "source": [
    "training_loss, validation_loss = model_two.train(X_train, y_train, X_test, y_test)\n"
   ]
  },
  {
   "cell_type": "code",
   "execution_count": null,
   "metadata": {},
   "outputs": [],
   "source": []
  },
  {
   "cell_type": "code",
   "execution_count": 34,
   "metadata": {},
   "outputs": [
    {
     "name": "stdout",
     "output_type": "stream",
     "text": [
      "Test Accuracy: 11.43%\n"
     ]
    }
   ],
   "source": [
    "# Step 3: Evaluate the Model\n",
    "y_pred = model.predict(X_test)\n",
    "y_pred_classes = np.argmax(y_pred, axis=1)\n",
    "y_test_classes = np.argmax(y_test, axis=1)\n",
    "\n",
    "# Step 4: Calculate Accuracy\n",
    "accuracy = model.accuracy(y_test_classes, y_pred_classes)\n",
    "print(f\"Test Accuracy: {accuracy * 100:.2f}%\")"
   ]
  },
  {
   "cell_type": "code",
   "execution_count": 37,
   "metadata": {},
   "outputs": [
    {
     "data": {
      "text/plain": [
       "array([[0.0984442 , 0.11360162, 0.09985351, ..., 0.10101594, 0.09880851,\n",
       "        0.09915438],\n",
       "       [0.0984442 , 0.11360162, 0.09985351, ..., 0.10101594, 0.09880851,\n",
       "        0.09915438],\n",
       "       [0.0984442 , 0.11360162, 0.09985351, ..., 0.10101594, 0.09880851,\n",
       "        0.09915438],\n",
       "       ...,\n",
       "       [0.0984442 , 0.11360162, 0.09985351, ..., 0.10101594, 0.09880851,\n",
       "        0.09915438],\n",
       "       [0.0984442 , 0.11360162, 0.09985351, ..., 0.10101594, 0.09880851,\n",
       "        0.09915438],\n",
       "       [0.0984442 , 0.11360162, 0.09985351, ..., 0.10101594, 0.09880851,\n",
       "        0.09915438]])"
      ]
     },
     "execution_count": 37,
     "metadata": {},
     "output_type": "execute_result"
    }
   ],
   "source": [
    "y_pred"
   ]
  },
  {
   "cell_type": "code",
   "execution_count": 35,
   "metadata": {},
   "outputs": [
    {
     "data": {
      "text/plain": [
       "array([1, 1, 1, ..., 1, 1, 1], dtype=int64)"
      ]
     },
     "execution_count": 35,
     "metadata": {},
     "output_type": "execute_result"
    }
   ],
   "source": [
    "y_pred_classes"
   ]
  },
  {
   "cell_type": "code",
   "execution_count": 36,
   "metadata": {},
   "outputs": [
    {
     "data": {
      "text/plain": [
       "array([8, 4, 8, ..., 2, 7, 1], dtype=int64)"
      ]
     },
     "execution_count": 36,
     "metadata": {},
     "output_type": "execute_result"
    }
   ],
   "source": [
    "y_test_classes"
   ]
  },
  {
   "cell_type": "code",
   "execution_count": null,
   "metadata": {},
   "outputs": [],
   "source": []
  }
 ],
 "metadata": {
  "kernelspec": {
   "display_name": ".venv",
   "language": "python",
   "name": "python3"
  },
  "language_info": {
   "codemirror_mode": {
    "name": "ipython",
    "version": 3
   },
   "file_extension": ".py",
   "mimetype": "text/x-python",
   "name": "python",
   "nbconvert_exporter": "python",
   "pygments_lexer": "ipython3",
   "version": "3.11.3"
  }
 },
 "nbformat": 4,
 "nbformat_minor": 2
}
