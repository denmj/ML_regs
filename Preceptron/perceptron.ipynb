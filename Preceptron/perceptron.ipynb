{
 "cells": [
  {
   "cell_type": "code",
   "execution_count": 3,
   "metadata": {},
   "outputs": [],
   "source": [
    "%load_ext autoreload\n",
    "%autoreload 2"
   ]
  },
  {
   "cell_type": "code",
   "execution_count": 4,
   "metadata": {},
   "outputs": [],
   "source": [
    "import numpy as np\n",
    "import pandas as pd\n",
    "import PreClf, MultiPreClf\n",
    "from sklearn.datasets import fetch_openml\n",
    "import matplotlib.pyplot as plt \n",
    "from sklearn.preprocessing import OneHotEncoder\n",
    "from sklearn.model_selection import train_test_split"
   ]
  },
  {
   "cell_type": "code",
   "execution_count": 5,
   "metadata": {},
   "outputs": [],
   "source": [
    "# MNIST \n",
    "X_, y_ = fetch_openml(\"mnist_784\", version=1, return_X_y=True, as_frame=False, parser=\"pandas\")\n",
    "# Preprocessing normalisation \n",
    "X_ = X_ / 255\n",
    "\n",
    "y_ = y_.astype(int)"
   ]
  },
  {
   "cell_type": "code",
   "execution_count": 6,
   "metadata": {},
   "outputs": [
    {
     "name": "stderr",
     "output_type": "stream",
     "text": [
      "m:\\ML\\ML_regs\\.venv\\Lib\\site-packages\\sklearn\\preprocessing\\_encoders.py:975: FutureWarning: `sparse` was renamed to `sparse_output` in version 1.2 and will be removed in 1.4. `sparse_output` is ignored unless you leave `sparse` to its default value.\n",
      "  warnings.warn(\n"
     ]
    }
   ],
   "source": [
    "# On-hot encoding\n",
    "encoder = OneHotEncoder(sparse=False)\n",
    "y_one_hot = encoder.fit_transform(y_.reshape(-1, 1))\n",
    "\n"
   ]
  },
  {
   "cell_type": "code",
   "execution_count": 43,
   "metadata": {},
   "outputs": [],
   "source": [
    "X_train, X_test, y_train, y_test = train_test_split(X_, y_one_hot, test_size=0.2, random_state=42)\n"
   ]
  },
  {
   "cell_type": "code",
   "execution_count": 54,
   "metadata": {},
   "outputs": [
    {
     "name": "stdout",
     "output_type": "stream",
     "text": [
      "Weights shape: (784, 32)\n",
      "Weights shape: (32, 16)\n",
      "Weights shape: (16, 10)\n"
     ]
    }
   ],
   "source": [
    "model = MultiPreClf.MultilayerPerceptron(alpha=0.0001, \n",
    "                                n_iterations=10, \n",
    "                                input_layer_size=784, \n",
    "                                hidden_layers_size=[32, 16], \n",
    "                                n_outputs=10)"
   ]
  },
  {
   "cell_type": "code",
   "execution_count": 55,
   "metadata": {},
   "outputs": [
    {
     "name": "stdout",
     "output_type": "stream",
     "text": [
      "Iteration: 0\n",
      "Epoch: 0, Loss: 0.6818196472456666\n",
      "Iteration: 1\n",
      "Epoch: 1, Loss: 0.47330763821222754\n",
      "Iteration: 2\n",
      "Epoch: 2, Loss: 0.3900302131792847\n",
      "Iteration: 3\n",
      "Epoch: 3, Loss: 0.3454896498847684\n",
      "Iteration: 4\n",
      "Epoch: 4, Loss: 0.3144445077200071\n",
      "Iteration: 5\n",
      "Epoch: 5, Loss: 0.29389632067400084\n",
      "Iteration: 6\n",
      "Epoch: 6, Loss: 0.27674365148742597\n",
      "Iteration: 7\n",
      "Epoch: 7, Loss: 0.26203933866054596\n",
      "Iteration: 8\n",
      "Epoch: 8, Loss: 0.25055431689250546\n",
      "Iteration: 9\n",
      "Epoch: 9, Loss: 0.24270895737918066\n"
     ]
    },
    {
     "data": {
      "text/plain": [
       "([0.6818196472456666,\n",
       "  0.47330763821222754,\n",
       "  0.3900302131792847,\n",
       "  0.3454896498847684,\n",
       "  0.3144445077200071,\n",
       "  0.29389632067400084,\n",
       "  0.27674365148742597,\n",
       "  0.26203933866054596,\n",
       "  0.25055431689250546,\n",
       "  0.24270895737918066],\n",
       " [])"
      ]
     },
     "execution_count": 55,
     "metadata": {},
     "output_type": "execute_result"
    }
   ],
   "source": [
    "X_train.shape, y_train.shape, X_test.shape, y_test.shape\n",
    "\n",
    "model.train(X_train, y_train, batch_size=32)\n",
    "\n",
    "# activations = model.forward_propagation(X_train[0:8])"
   ]
  },
  {
   "cell_type": "code",
   "execution_count": 40,
   "metadata": {},
   "outputs": [],
   "source": [
    "# model.back_propagation(X_train[0:8], y_train[0:8], activations)"
   ]
  },
  {
   "cell_type": "code",
   "execution_count": null,
   "metadata": {},
   "outputs": [],
   "source": []
  }
 ],
 "metadata": {
  "kernelspec": {
   "display_name": ".venv",
   "language": "python",
   "name": "python3"
  },
  "language_info": {
   "codemirror_mode": {
    "name": "ipython",
    "version": 3
   },
   "file_extension": ".py",
   "mimetype": "text/x-python",
   "name": "python",
   "nbconvert_exporter": "python",
   "pygments_lexer": "ipython3",
   "version": "3.11.3"
  }
 },
 "nbformat": 4,
 "nbformat_minor": 2
}
