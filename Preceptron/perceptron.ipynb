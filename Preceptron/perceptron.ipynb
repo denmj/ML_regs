{
 "cells": [
  {
   "cell_type": "code",
   "execution_count": 3,
   "metadata": {},
   "outputs": [],
   "source": [
    "%load_ext autoreload\n",
    "%autoreload 2"
   ]
  },
  {
   "cell_type": "code",
   "execution_count": 4,
   "metadata": {},
   "outputs": [],
   "source": [
    "import numpy as np\n",
    "import pandas as pd\n",
    "import PreClf, MultiPreClf\n",
    "from sklearn.datasets import fetch_openml\n",
    "import matplotlib.pyplot as plt \n",
    "from sklearn.preprocessing import OneHotEncoder\n",
    "from sklearn.model_selection import train_test_split"
   ]
  },
  {
   "cell_type": "code",
   "execution_count": 5,
   "metadata": {},
   "outputs": [],
   "source": [
    "# MNIST \n",
    "X_, y_ = fetch_openml(\"mnist_784\", version=1, return_X_y=True, as_frame=False, parser=\"pandas\")\n",
    "# Preprocessing normalisation \n",
    "X_ = X_ / 255\n",
    "\n",
    "y_ = y_.astype(int)"
   ]
  },
  {
   "cell_type": "code",
   "execution_count": 6,
   "metadata": {},
   "outputs": [
    {
     "name": "stderr",
     "output_type": "stream",
     "text": [
      "m:\\ML\\ML_regs\\.venv\\Lib\\site-packages\\sklearn\\preprocessing\\_encoders.py:975: FutureWarning: `sparse` was renamed to `sparse_output` in version 1.2 and will be removed in 1.4. `sparse_output` is ignored unless you leave `sparse` to its default value.\n",
      "  warnings.warn(\n"
     ]
    }
   ],
   "source": [
    "# On-hot encoding\n",
    "encoder = OneHotEncoder(sparse=False)\n",
    "y_one_hot = encoder.fit_transform(y_.reshape(-1, 1))\n",
    "\n"
   ]
  },
  {
   "cell_type": "code",
   "execution_count": 7,
   "metadata": {},
   "outputs": [],
   "source": [
    "X_train, X_test, y_train, y_test = train_test_split(X_, y_one_hot, test_size=0.2, random_state=42)\n"
   ]
  },
  {
   "cell_type": "code",
   "execution_count": 8,
   "metadata": {},
   "outputs": [
    {
     "name": "stdout",
     "output_type": "stream",
     "text": [
      "Weights shape: (784, 32)\n",
      "Weights shape: (32, 16)\n",
      "Weights shape: (16, 10)\n"
     ]
    }
   ],
   "source": [
    "model = MultiPreClf.MultilayerPerceptron(alpha=0.01, \n",
    "                                n_iterations=2, \n",
    "                                input_layer_size=784, \n",
    "                                hidden_layers_size=[32, 16], \n",
    "                                n_outputs=10)"
   ]
  },
  {
   "cell_type": "code",
   "execution_count": 9,
   "metadata": {},
   "outputs": [
    {
     "name": "stdout",
     "output_type": "stream",
     "text": [
      "A 0 : (8, 784) \n",
      "W 1 : (784, 32) \n",
      "Z 1 - Linear output shape: (8, 32)\n",
      "A 1 - Activation(relu) output shape: (8, 32)\n",
      "W 2 : (32, 16) \n",
      "Z 2 - Linear output shape: (8, 16)\n",
      "A 2 - Activation(relu) output shape: (8, 16)\n",
      "Z 2 - Linear output shape: (8, 16) \n",
      "W 2 - Weights shape: (16, 10) \n",
      "Z 3 - Linear output shape: (8, 10)\n",
      "A 3 - Activation (softmax) output shape: (8, 10)\n"
     ]
    }
   ],
   "source": [
    "X_train.shape, y_train.shape, X_test.shape, y_test.shape\n",
    "\n",
    "# model.train(X_train, y_train, X_test, y_test, batch_size=8)\n",
    "\n",
    "activations = model.forward_propagation(X_train[0:8])"
   ]
  },
  {
   "cell_type": "code",
   "execution_count": 37,
   "metadata": {},
   "outputs": [
    {
     "name": "stdout",
     "output_type": "stream",
     "text": [
      "-1\n",
      " δl(8, 10) =  dL[3]/dA3 (8, 10) * dA3/dZ3 (8, 10)\n",
      "A-2 (16, 8).T * δl (8, 10)\n",
      "W[-1] (16, 10)\n",
      "-2\n",
      "A-3 (32, 8).T * δl (8, 16)\n",
      "W[-2] (32, 16)\n",
      "-3\n",
      "A-4 (784, 8).T * δl (8, 32)\n",
      "W[-3] (784, 32)\n"
     ]
    }
   ],
   "source": [
    "model.back_propagation(X_train[0:8], y_train[0:8], activations)"
   ]
  },
  {
   "cell_type": "code",
   "execution_count": 225,
   "metadata": {},
   "outputs": [
    {
     "name": "stdout",
     "output_type": "stream",
     "text": [
      "1 (784, 32)\n",
      "2 (32, 16)\n",
      "3 (16, 10)\n"
     ]
    }
   ],
   "source": [
    "for layer in range(len(model.weights) ):\n",
    "    print(layer+1, model.weights[layer].shape)"
   ]
  },
  {
   "cell_type": "code",
   "execution_count": 227,
   "metadata": {},
   "outputs": [
    {
     "name": "stdout",
     "output_type": "stream",
     "text": [
      "0 (8, 784)\n",
      "1 (8, 32)\n",
      "2 (8, 16)\n",
      "3 (8, 10)\n"
     ]
    }
   ],
   "source": [
    "for activation in range(len(activations)):\n",
    "    print(activation, activations[activation].shape)"
   ]
  },
  {
   "cell_type": "code",
   "execution_count": 234,
   "metadata": {},
   "outputs": [
    {
     "name": "stdout",
     "output_type": "stream",
     "text": [
      "2 (16, 10) (8, 16)\n",
      "1 (32, 16) (8, 32)\n"
     ]
    }
   ],
   "source": [
    "# loop from back of the weights, 0 because \n",
    "for layer in range(len(model.weights)-1, 0, -1):\n",
    "    print(layer, model.weights[layer].shape, activations[layer].shape)"
   ]
  },
  {
   "cell_type": "code",
   "execution_count": 19,
   "metadata": {},
   "outputs": [
    {
     "data": {
      "text/plain": [
       "4"
      ]
     },
     "execution_count": 19,
     "metadata": {},
     "output_type": "execute_result"
    }
   ],
   "source": [
    "len(model.weights) + 1\n"
   ]
  },
  {
   "cell_type": "code",
   "execution_count": 17,
   "metadata": {},
   "outputs": [
    {
     "name": "stdout",
     "output_type": "stream",
     "text": [
      "-1 (16, 10) (8, 10)\n",
      "-2 (32, 16) (8, 16)\n",
      "-3 (784, 32) (8, 32)\n"
     ]
    }
   ],
   "source": [
    "for l in range(1, len(model.weights) + 1):\n",
    "    print(-l, model.weights[-l].shape, activations[-l].shape)"
   ]
  },
  {
   "cell_type": "code",
   "execution_count": 26,
   "metadata": {},
   "outputs": [
    {
     "data": {
      "text/plain": [
       "(784, 32)"
      ]
     },
     "execution_count": 26,
     "metadata": {},
     "output_type": "execute_result"
    }
   ],
   "source": [
    "model.weights[-3].shape"
   ]
  },
  {
   "cell_type": "code",
   "execution_count": 33,
   "metadata": {},
   "outputs": [
    {
     "data": {
      "text/plain": [
       "-1"
      ]
     },
     "execution_count": 33,
     "metadata": {},
     "output_type": "execute_result"
    }
   ],
   "source": [
    "-2 + 1"
   ]
  },
  {
   "cell_type": "code",
   "execution_count": null,
   "metadata": {},
   "outputs": [],
   "source": []
  }
 ],
 "metadata": {
  "kernelspec": {
   "display_name": ".venv",
   "language": "python",
   "name": "python3"
  },
  "language_info": {
   "codemirror_mode": {
    "name": "ipython",
    "version": 3
   },
   "file_extension": ".py",
   "mimetype": "text/x-python",
   "name": "python",
   "nbconvert_exporter": "python",
   "pygments_lexer": "ipython3",
   "version": "3.11.3"
  }
 },
 "nbformat": 4,
 "nbformat_minor": 2
}
