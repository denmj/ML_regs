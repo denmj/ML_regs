{
 "cells": [
  {
   "cell_type": "code",
   "execution_count": 44,
   "metadata": {},
   "outputs": [
    {
     "name": "stdout",
     "output_type": "stream",
     "text": [
      "The autoreload extension is already loaded. To reload it, use:\n",
      "  %reload_ext autoreload\n"
     ]
    }
   ],
   "source": [
    "%load_ext autoreload\n",
    "%autoreload 2"
   ]
  },
  {
   "cell_type": "code",
   "execution_count": 62,
   "metadata": {},
   "outputs": [
    {
     "name": "stderr",
     "output_type": "stream",
     "text": [
      "m:\\ML\\ML_regs\\.venv\\Lib\\site-packages\\sklearn\\preprocessing\\_encoders.py:975: FutureWarning: `sparse` was renamed to `sparse_output` in version 1.2 and will be removed in 1.4. `sparse_output` is ignored unless you leave `sparse` to its default value.\n",
      "  warnings.warn(\n"
     ]
    }
   ],
   "source": [
    "import numpy as np\n",
    "import pandas as pd\n",
    "import PreClf, MultiPreClf\n",
    "from sklearn.datasets import fetch_openml\n",
    "from sklearn.datasets import make_moons\n",
    "\n",
    "import matplotlib.pyplot as plt \n",
    "from sklearn.preprocessing import OneHotEncoder\n",
    "from sklearn.model_selection import train_test_split\n",
    "\n",
    "# MLP from sklearn\n",
    "from sklearn.neural_network import MLPClassifier\n",
    "\n",
    "\n",
    "# MNIST \n",
    "X_, y_ = fetch_openml(\"mnist_784\", version=1, return_X_y=True, as_frame=False, parser=\"pandas\")\n",
    "# Preprocessing normalisation \n",
    "X_ = X_ / 255\n",
    "\n",
    "y_ = y_.astype(int)\n",
    "\n",
    "# On-hot encoding\n",
    "encoder = OneHotEncoder(sparse=False)\n",
    "y_one_hot = encoder.fit_transform(y_.reshape(-1, 1))\n",
    "\n",
    "\n",
    "X_train, X_test, y_train, y_test = train_test_split(X_, y_one_hot, test_size=0.2, random_state=42)\n",
    "\n",
    "\n",
    "sk_mlp = MLPClassifier(hidden_layer_sizes=(100, 100), activation='relu', solver='adam', alpha=0.0001, batch_size='auto',\n",
    "                          learning_rate='constant', learning_rate_init=0.001, power_t=0.5, max_iter=200, shuffle=True,\n",
    "                            random_state=None, tol=0.0001, verbose=False, warm_start=False, momentum=0.9,\n",
    "                                nesterovs_momentum=True, early_stopping=False, validation_fraction=0.1, beta_1=0.9,\n",
    "                                    beta_2=0.999, epsilon=1e-08, n_iter_no_change=10, max_fun=15000)\n"
   ]
  },
  {
   "cell_type": "code",
   "execution_count": 45,
   "metadata": {},
   "outputs": [
    {
     "name": "stdout",
     "output_type": "stream",
     "text": [
      "Accuracy:  9.9585\n"
     ]
    }
   ],
   "source": [
    "# # Train \n",
    "# sk_mlp.fit(X_train, y_train)\n",
    "\n",
    "# # Predict\n",
    "# y_pred = sk_mlp.predict(X_test)\n",
    "\n",
    "\n"
   ]
  },
  {
   "cell_type": "code",
   "execution_count": 63,
   "metadata": {},
   "outputs": [],
   "source": [
    "model = MultiPreClf.MultilayerPerceptron(alpha=0.01, \n",
    "                                         n_iterations=2, \n",
    "                                         input_layer_size=784, \n",
    "                                         hidden_layers_size=[32, 16], \n",
    "                                         n_outputs=10, \n",
    "                                         regularization=\"l2\", \n",
    "                                         lambda_reg=0.1)\n",
    "\n",
    "model_two = MultiPreClf.MLP(alpha=0.01, n_iterations=5, \n",
    "                            input_layer_size=784, hidden_layers_size=[128, 64], \n",
    "                            n_outputs=10,\n",
    "                            regularization=\"l2\", \n",
    "                            lambda_reg=0.1)"
   ]
  },
  {
   "cell_type": "code",
   "execution_count": 60,
   "metadata": {},
   "outputs": [
    {
     "name": "stdout",
     "output_type": "stream",
     "text": [
      "Iteration: 0\n",
      "Epoch: 0, Training loss : 1.8327966395874447\n",
      "Iteration: 1\n",
      "Epoch: 1, Training loss : 7.894577455979586\n",
      "Iteration: 2\n",
      "Epoch: 2, Training loss : 7.894577455979586\n",
      "Iteration: 3\n",
      "Epoch: 3, Training loss : 7.894577455979586\n",
      "Iteration: 4\n",
      "Epoch: 4, Training loss : 7.894577455979586\n",
      "Iteration: 5\n",
      "Epoch: 5, Training loss : 7.894577455979586\n",
      "Iteration: 6\n",
      "Epoch: 6, Training loss : 7.894577455979586\n",
      "Iteration: 7\n",
      "Epoch: 7, Training loss : 7.894577455979586\n",
      "Iteration: 8\n",
      "Epoch: 8, Training loss : 7.894577455979586\n",
      "Iteration: 9\n",
      "Epoch: 9, Training loss : 7.894577455979586\n",
      "Iteration: 10\n",
      "Epoch: 10, Training loss : 7.894577455979586\n",
      "Iteration: 11\n",
      "Epoch: 11, Training loss : 7.894577455979586\n",
      "Iteration: 12\n",
      "Epoch: 12, Training loss : 7.894577455979586\n",
      "Iteration: 13\n",
      "Epoch: 13, Training loss : 7.894577455979586\n",
      "Iteration: 14\n",
      "Epoch: 14, Training loss : 7.894577455979586\n",
      "Iteration: 15\n",
      "Epoch: 15, Training loss : 7.894577455979586\n",
      "Iteration: 16\n",
      "Epoch: 16, Training loss : 7.894577455979586\n",
      "Iteration: 17\n",
      "Epoch: 17, Training loss : 7.894577455979586\n",
      "Iteration: 18\n",
      "Epoch: 18, Training loss : 7.894577455979586\n",
      "Iteration: 19\n",
      "Epoch: 19, Training loss : 7.894577455979586\n",
      "Iteration: 20\n",
      "Epoch: 20, Training loss : 7.894577455979586\n",
      "Iteration: 21\n",
      "Epoch: 21, Training loss : 7.894577455979586\n",
      "Iteration: 22\n",
      "Epoch: 22, Training loss : 10.526103277972783\n",
      "Iteration: 23\n",
      "Epoch: 23, Training loss : 10.526103277972783\n",
      "Iteration: 24\n",
      "Epoch: 24, Training loss : 7.894577455979586\n",
      "Iteration: 25\n",
      "Epoch: 25, Training loss : 7.894577455979586\n",
      "Iteration: 26\n",
      "Epoch: 26, Training loss : 7.894577455979586\n",
      "Iteration: 27\n",
      "Epoch: 27, Training loss : 7.894577455979586\n",
      "Iteration: 28\n",
      "Epoch: 28, Training loss : 7.894577455979586\n",
      "Iteration: 29\n",
      "Epoch: 29, Training loss : 7.894577455979586\n",
      "Iteration: 30\n",
      "Epoch: 30, Training loss : 7.894577455979586\n",
      "Iteration: 31\n",
      "Epoch: 31, Training loss : 7.894577455979586\n",
      "Iteration: 32\n",
      "Epoch: 32, Training loss : 7.894577455979586\n",
      "Iteration: 33\n",
      "Epoch: 33, Training loss : 7.894577455979586\n",
      "Iteration: 34\n",
      "Epoch: 34, Training loss : 7.894577455979586\n",
      "Iteration: 35\n",
      "Epoch: 35, Training loss : 7.894577455979586\n",
      "Iteration: 36\n",
      "Epoch: 36, Training loss : 7.894577455979586\n",
      "Iteration: 37\n",
      "Epoch: 37, Training loss : 7.894577455979586\n",
      "Iteration: 38\n",
      "Epoch: 38, Training loss : 7.894577455979586\n",
      "Iteration: 39\n",
      "Epoch: 39, Training loss : 7.894577455979586\n",
      "Iteration: 40\n",
      "Epoch: 40, Training loss : 7.894577455979586\n",
      "Iteration: 41\n",
      "Epoch: 41, Training loss : 7.894577455979586\n",
      "Iteration: 42\n",
      "Epoch: 42, Training loss : 7.894577455979586\n",
      "Iteration: 43\n",
      "Epoch: 43, Training loss : 7.894577455979586\n",
      "Iteration: 44\n",
      "Epoch: 44, Training loss : 7.894577455979586\n",
      "Iteration: 45\n",
      "Epoch: 45, Training loss : 7.894577455979586\n",
      "Iteration: 46\n",
      "Epoch: 46, Training loss : 7.894577455979586\n",
      "Iteration: 47\n",
      "Epoch: 47, Training loss : 7.894577455979586\n",
      "Iteration: 48\n",
      "Epoch: 48, Training loss : 7.894577455979586\n",
      "Iteration: 49\n",
      "Epoch: 49, Training loss : 7.894577455979586\n",
      "Iteration: 50\n",
      "Epoch: 50, Training loss : 7.894577455979586\n",
      "Iteration: 51\n",
      "Epoch: 51, Training loss : 7.894577455979586\n",
      "Iteration: 52\n",
      "Epoch: 52, Training loss : 7.894577455979586\n",
      "Iteration: 53\n",
      "Epoch: 53, Training loss : 7.894577455979586\n",
      "Iteration: 54\n",
      "Epoch: 54, Training loss : 7.894577455979586\n",
      "Iteration: 55\n",
      "Epoch: 55, Training loss : 7.894577455979586\n",
      "Iteration: 56\n",
      "Epoch: 56, Training loss : 7.894577455979586\n",
      "Iteration: 57\n",
      "Epoch: 57, Training loss : 7.894577455979586\n",
      "Iteration: 58\n",
      "Epoch: 58, Training loss : 7.894577455979586\n",
      "Iteration: 59\n",
      "Epoch: 59, Training loss : 7.894577455979586\n",
      "Iteration: 60\n",
      "Epoch: 60, Training loss : 7.894577455979586\n",
      "Iteration: 61\n",
      "Epoch: 61, Training loss : 7.894577455979586\n",
      "Iteration: 62\n",
      "Epoch: 62, Training loss : 7.894577455979586\n",
      "Iteration: 63\n",
      "Epoch: 63, Training loss : 7.894577455979586\n",
      "Iteration: 64\n",
      "Epoch: 64, Training loss : 7.894577455979586\n",
      "Iteration: 65\n",
      "Epoch: 65, Training loss : 7.894577455979586\n",
      "Iteration: 66\n",
      "Epoch: 66, Training loss : 7.894577455979586\n",
      "Iteration: 67\n",
      "Epoch: 67, Training loss : 7.894577455979586\n",
      "Iteration: 68\n",
      "Epoch: 68, Training loss : 7.894577455979586\n",
      "Iteration: 69\n",
      "Epoch: 69, Training loss : 7.894577455979586\n",
      "Iteration: 70\n",
      "Epoch: 70, Training loss : 7.894577455979586\n",
      "Iteration: 71\n",
      "Epoch: 71, Training loss : 7.894577455979586\n",
      "Iteration: 72\n",
      "Epoch: 72, Training loss : 7.894577455979586\n",
      "Iteration: 73\n",
      "Epoch: 73, Training loss : 7.894577455979586\n",
      "Iteration: 74\n",
      "Epoch: 74, Training loss : 7.894577455979586\n",
      "Iteration: 75\n",
      "Epoch: 75, Training loss : 7.894577455979586\n",
      "Iteration: 76\n",
      "Epoch: 76, Training loss : 7.894577455979586\n",
      "Iteration: 77\n",
      "Epoch: 77, Training loss : 7.894577455979586\n",
      "Iteration: 78\n",
      "Epoch: 78, Training loss : 7.894577455979586\n",
      "Iteration: 79\n",
      "Epoch: 79, Training loss : 7.894577455979586\n",
      "Iteration: 80\n",
      "Epoch: 80, Training loss : 7.894577455979586\n",
      "Iteration: 81\n",
      "Epoch: 81, Training loss : 7.894577455979586\n",
      "Iteration: 82\n",
      "Epoch: 82, Training loss : 7.894577455979586\n",
      "Iteration: 83\n",
      "Epoch: 83, Training loss : 7.894577455979586\n",
      "Iteration: 84\n",
      "Epoch: 84, Training loss : 10.526103277972783\n",
      "Iteration: 85\n",
      "Epoch: 85, Training loss : 7.894577455979586\n",
      "Iteration: 86\n",
      "Epoch: 86, Training loss : 7.894577455979586\n",
      "Iteration: 87\n",
      "Epoch: 87, Training loss : 7.894577455979586\n",
      "Iteration: 88\n",
      "Epoch: 88, Training loss : 7.894577455979586\n",
      "Iteration: 89\n",
      "Epoch: 89, Training loss : 7.894577455979586\n",
      "Iteration: 90\n",
      "Epoch: 90, Training loss : 7.894577455979586\n",
      "Iteration: 91\n",
      "Epoch: 91, Training loss : 7.894577455979586\n",
      "Iteration: 92\n",
      "Epoch: 92, Training loss : 7.894577455979586\n",
      "Iteration: 93\n",
      "Epoch: 93, Training loss : 7.894577455979586\n",
      "Iteration: 94\n",
      "Epoch: 94, Training loss : 7.894577455979586\n",
      "Iteration: 95\n",
      "Epoch: 95, Training loss : 7.894577455979586\n",
      "Iteration: 96\n",
      "Epoch: 96, Training loss : 7.894577455979586\n",
      "Iteration: 97\n",
      "Epoch: 97, Training loss : 7.894577455979586\n",
      "Iteration: 98\n",
      "Epoch: 98, Training loss : 7.894577455979586\n",
      "Iteration: 99\n",
      "Epoch: 99, Training loss : 7.894577455979586\n"
     ]
    },
    {
     "name": "stderr",
     "output_type": "stream",
     "text": [
      "m:\\ML\\ML_regs\\Preceptron\\MultiPreClf.py:221: RuntimeWarning: overflow encountered in exp\n",
      "  # load model weights\n"
     ]
    },
    {
     "data": {
      "text/plain": [
       "0.3333333333333333"
      ]
     },
     "execution_count": 60,
     "metadata": {},
     "output_type": "execute_result"
    }
   ],
   "source": [
    "# from sklearn.datasets import make_moons\n",
    "# from sklearn.model_selection import train_test_split\n",
    "# from sklearn.metrics import accuracy_score\n",
    "\n",
    "# # Create a simple dataset\n",
    "# X, y = make_moons(n_samples=100, noise=0.2, random_state=42)\n",
    "\n",
    "# # Reshape y for compatibility with the neural network\n",
    "# y = y.reshape(-1, 1)\n",
    "\n",
    "# # Split into training and test sets\n",
    "# X_train, X_test, y_train, y_test = train_test_split(X, y, test_size=0.3, random_state=42)\n",
    "\n",
    "# # Initialize and train the Multilayer Perceptron\n",
    "# mlp = MultiPreClf.MultilayerPerceptron(alpha=0.01, n_iterations=100, input_layer_size=2, hidden_layers_size=[10], n_outputs=1)\n",
    "# training_loss, validation_loss = mlp.train(X_train, y_train)\n",
    "\n",
    "# # Predict on the test set\n",
    "# y_pred = mlp.predict(X_test)\n",
    "\n",
    "# # Calculate the accuracy\n",
    "# accuracy = accuracy_score(y_test, y_pred)\n",
    "# accuracy\n",
    "\n"
   ]
  },
  {
   "cell_type": "code",
   "execution_count": 53,
   "metadata": {},
   "outputs": [
    {
     "name": "stdout",
     "output_type": "stream",
     "text": [
      "2\n",
      "(16, 10)\n",
      "1\n",
      "(32, 16)\n",
      "0\n",
      "(784, 32)\n"
     ]
    }
   ],
   "source": [
    "for layer in range(len(model.weights) - 1, -1, -1):\n",
    "    print(layer)\n",
    "    print(model.weights[layer].shape)"
   ]
  },
  {
   "cell_type": "code",
   "execution_count": 54,
   "metadata": {},
   "outputs": [
    {
     "name": "stdout",
     "output_type": "stream",
     "text": [
      "1\n",
      "2\n",
      "3\n"
     ]
    }
   ],
   "source": [
    "for layer in range(1, len(model.weights) + 1):\n",
    "    print(layer)"
   ]
  },
  {
   "cell_type": "code",
   "execution_count": null,
   "metadata": {},
   "outputs": [],
   "source": [
    "training_loss, validation_loss = model_two.train(X_train, y_train, X_test, y_test)\n"
   ]
  },
  {
   "cell_type": "code",
   "execution_count": null,
   "metadata": {},
   "outputs": [],
   "source": []
  },
  {
   "cell_type": "code",
   "execution_count": 34,
   "metadata": {},
   "outputs": [
    {
     "name": "stdout",
     "output_type": "stream",
     "text": [
      "Test Accuracy: 11.43%\n"
     ]
    }
   ],
   "source": [
    "# Step 3: Evaluate the Model\n",
    "y_pred = model.predict(X_test)\n",
    "y_pred_classes = np.argmax(y_pred, axis=1)\n",
    "y_test_classes = np.argmax(y_test, axis=1)\n",
    "\n",
    "# Step 4: Calculate Accuracy\n",
    "accuracy = model.accuracy(y_test_classes, y_pred_classes)\n",
    "print(f\"Test Accuracy: {accuracy * 100:.2f}%\")"
   ]
  },
  {
   "cell_type": "code",
   "execution_count": 37,
   "metadata": {},
   "outputs": [
    {
     "data": {
      "text/plain": [
       "array([[0.0984442 , 0.11360162, 0.09985351, ..., 0.10101594, 0.09880851,\n",
       "        0.09915438],\n",
       "       [0.0984442 , 0.11360162, 0.09985351, ..., 0.10101594, 0.09880851,\n",
       "        0.09915438],\n",
       "       [0.0984442 , 0.11360162, 0.09985351, ..., 0.10101594, 0.09880851,\n",
       "        0.09915438],\n",
       "       ...,\n",
       "       [0.0984442 , 0.11360162, 0.09985351, ..., 0.10101594, 0.09880851,\n",
       "        0.09915438],\n",
       "       [0.0984442 , 0.11360162, 0.09985351, ..., 0.10101594, 0.09880851,\n",
       "        0.09915438],\n",
       "       [0.0984442 , 0.11360162, 0.09985351, ..., 0.10101594, 0.09880851,\n",
       "        0.09915438]])"
      ]
     },
     "execution_count": 37,
     "metadata": {},
     "output_type": "execute_result"
    }
   ],
   "source": [
    "y_pred"
   ]
  },
  {
   "cell_type": "code",
   "execution_count": 35,
   "metadata": {},
   "outputs": [
    {
     "data": {
      "text/plain": [
       "array([1, 1, 1, ..., 1, 1, 1], dtype=int64)"
      ]
     },
     "execution_count": 35,
     "metadata": {},
     "output_type": "execute_result"
    }
   ],
   "source": [
    "y_pred_classes"
   ]
  },
  {
   "cell_type": "code",
   "execution_count": 36,
   "metadata": {},
   "outputs": [
    {
     "data": {
      "text/plain": [
       "array([8, 4, 8, ..., 2, 7, 1], dtype=int64)"
      ]
     },
     "execution_count": 36,
     "metadata": {},
     "output_type": "execute_result"
    }
   ],
   "source": [
    "y_test_classes"
   ]
  },
  {
   "cell_type": "code",
   "execution_count": 1,
   "metadata": {},
   "outputs": [],
   "source": [
    "import numpy as np\n",
    "import pandas as pd\n",
    "from matplotlib import pyplot as plt\n"
   ]
  },
  {
   "cell_type": "code",
   "execution_count": 6,
   "metadata": {},
   "outputs": [],
   "source": [
    "train = pd.read_csv(\"C:/Users/denis/Downloads/digit-recognizer/train.csv\")\n",
    "test = pd.read_csv(\"C:/Users/denis/Downloads/digit-recognizer/test.csv\")"
   ]
  },
  {
   "cell_type": "code",
   "execution_count": 9,
   "metadata": {},
   "outputs": [],
   "source": [
    "data = np.array(train)\n",
    "\n",
    "m , n = data.shape"
   ]
  },
  {
   "cell_type": "code",
   "execution_count": 10,
   "metadata": {},
   "outputs": [],
   "source": [
    "np.random.shuffle(data)"
   ]
  },
  {
   "cell_type": "code",
   "execution_count": 11,
   "metadata": {},
   "outputs": [],
   "source": [
    "data_dev = data[0:1000].T\n",
    "Y_dev = data_dev[0]\n",
    "X_dev = data_dev[1:n]\n",
    "\n",
    "data_train = data[1000:m].T\n",
    "Y_train = data_train[0]\n",
    "X_train = data_train[1:n]"
   ]
  },
  {
   "cell_type": "code",
   "execution_count": 15,
   "metadata": {},
   "outputs": [],
   "source": [
    "def  init_params():\n",
    "\n",
    "    W_one = np.random.rand(10, 784) - 0.5\n",
    "    b_one = np.random.rand(10, 1) - 0.5\n",
    "\n",
    "    W_two = np.random.rand(10, 10) - 0.5\n",
    "    b_two = np.random.rand(10, 1) - 0.5\n",
    "\n",
    "    return W_one, b_one, W_two, b_two\n",
    "\n",
    "def relu(Z):\n",
    "\n",
    "    return np.maximum(0, Z)\n",
    "\n",
    "def softmax(Z):\n",
    "\n",
    "    A = np.exp(Z) / sum(np.exp(Z))\n",
    "\n",
    "    return A\n",
    "\n",
    "def forward_prop(W_one, b_one, W_two, b_two, X):\n",
    "\n",
    "    Z_one = W_one.dot(X) + b_one\n",
    "    A_one = relu(Z_one)\n",
    "\n",
    "    Z_two = W_two.dot(A_one) + b_two\n",
    "    A_two = softmax(Z_two)\n",
    "\n",
    "    return Z_one, A_one, Z_two, A_two"
   ]
  },
  {
   "cell_type": "code",
   "execution_count": null,
   "metadata": {},
   "outputs": [],
   "source": []
  }
 ],
 "metadata": {
  "kernelspec": {
   "display_name": ".venv",
   "language": "python",
   "name": "python3"
  },
  "language_info": {
   "codemirror_mode": {
    "name": "ipython",
    "version": 3
   },
   "file_extension": ".py",
   "mimetype": "text/x-python",
   "name": "python",
   "nbconvert_exporter": "python",
   "pygments_lexer": "ipython3",
   "version": "3.11.3"
  }
 },
 "nbformat": 4,
 "nbformat_minor": 2
}
