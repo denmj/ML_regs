{
 "cells": [
  {
   "cell_type": "code",
   "execution_count": 47,
   "metadata": {},
   "outputs": [
    {
     "name": "stdout",
     "output_type": "stream",
     "text": [
      "The autoreload extension is already loaded. To reload it, use:\n",
      "  %reload_ext autoreload\n"
     ]
    }
   ],
   "source": [
    "%load_ext autoreload\n",
    "%autoreload 2"
   ]
  },
  {
   "cell_type": "code",
   "execution_count": 48,
   "metadata": {},
   "outputs": [
    {
     "name": "stderr",
     "output_type": "stream",
     "text": [
      "m:\\ML\\ML_regs\\.venv\\Lib\\site-packages\\sklearn\\preprocessing\\_encoders.py:975: FutureWarning: `sparse` was renamed to `sparse_output` in version 1.2 and will be removed in 1.4. `sparse_output` is ignored unless you leave `sparse` to its default value.\n",
      "  warnings.warn(\n"
     ]
    }
   ],
   "source": [
    "import numpy as np\n",
    "import pandas as pd\n",
    "import PreClf, MultiPreClf\n",
    "from sklearn.datasets import fetch_openml\n",
    "from sklearn.datasets import make_moons\n",
    "\n",
    "import matplotlib.pyplot as plt \n",
    "from sklearn.preprocessing import OneHotEncoder\n",
    "from sklearn.model_selection import train_test_split\n",
    "\n",
    "# MLP from sklearn\n",
    "from sklearn.neural_network import MLPClassifier\n",
    "\n",
    "\n",
    "# MNIST \n",
    "X_, y_ = fetch_openml(\"mnist_784\", version=1, return_X_y=True, as_frame=False, parser=\"pandas\")\n",
    "# Preprocessing normalisation \n",
    "X_ = X_ / 255\n",
    "\n",
    "y_ = y_.astype(int)\n",
    "\n",
    "# On-hot encoding\n",
    "encoder = OneHotEncoder(sparse=False)\n",
    "y_one_hot = encoder.fit_transform(y_.reshape(-1, 1))\n",
    "\n",
    "\n",
    "X_train, X_test, y_train, y_test = train_test_split(X_, y_one_hot, test_size=0.2, random_state=42)\n",
    "\n",
    "\n",
    "sk_mlp = MLPClassifier(hidden_layer_sizes=(100, 100), activation='relu', solver='adam', alpha=0.0001, batch_size='auto',\n",
    "                          learning_rate='constant', learning_rate_init=0.001, power_t=0.5, max_iter=200, shuffle=True,\n",
    "                            random_state=None, tol=0.0001, verbose=False, warm_start=False, momentum=0.9,\n",
    "                                nesterovs_momentum=True, early_stopping=False, validation_fraction=0.1, beta_1=0.9,\n",
    "                                    beta_2=0.999, epsilon=1e-08, n_iter_no_change=10, max_fun=15000)\n"
   ]
  },
  {
   "cell_type": "code",
   "execution_count": 66,
   "metadata": {},
   "outputs": [],
   "source": [
    "model = MultiPreClf.MultilayerPerceptron(alpha=0.01, \n",
    "                                         n_iterations=2, \n",
    "                                         input_layer_size=784, \n",
    "                                         hidden_layers_size=[32, 16], \n",
    "                                         n_outputs=10, \n",
    "                                         regularization=\"l2\", \n",
    "                                         lambda_reg=0.1)\n",
    "\n",
    "model_two = MultiPreClf.MLP(alpha=0.01, n_iterations=5, \n",
    "                            input_layer_size=784, hidden_layers_size=[32, 16], \n",
    "                            n_outputs=10,\n",
    "                            regularization=\"l2\", \n",
    "                            lambda_reg=0.1)"
   ]
  },
  {
   "cell_type": "code",
   "execution_count": 63,
   "metadata": {},
   "outputs": [],
   "source": [
    "a = model_two.forward_propagation(X_train[:5, :])"
   ]
  },
  {
   "cell_type": "code",
   "execution_count": 64,
   "metadata": {},
   "outputs": [
    {
     "data": {
      "text/plain": [
       "array([[0.1196863 , 0.1474748 , 0.10284153, 0.0989867 , 0.04712092,\n",
       "        0.10836891, 0.06494019, 0.15305338, 0.06896177, 0.0885655 ],\n",
       "       [0.08492067, 0.20089706, 0.12936984, 0.11301478, 0.01573648,\n",
       "        0.09077563, 0.02110054, 0.20330906, 0.08255924, 0.05831669],\n",
       "       [0.10102529, 0.1726681 , 0.11781825, 0.08946777, 0.03457797,\n",
       "        0.09614729, 0.05655688, 0.17538551, 0.06679194, 0.08956101],\n",
       "       [0.13054328, 0.12606271, 0.078882  , 0.11691978, 0.05149726,\n",
       "        0.06184108, 0.04572222, 0.25778927, 0.04243273, 0.08830967],\n",
       "       [0.06540318, 0.20579222, 0.0934958 , 0.0533974 , 0.0130552 ,\n",
       "        0.07630971, 0.02309069, 0.37991942, 0.04224762, 0.04728875]])"
      ]
     },
     "execution_count": 64,
     "metadata": {},
     "output_type": "execute_result"
    }
   ],
   "source": [
    "a[-1]"
   ]
  },
  {
   "cell_type": "code",
   "execution_count": 65,
   "metadata": {},
   "outputs": [],
   "source": [
    "model_two.backpropagation(X_train[:5, :], y_train[:5, :], a)"
   ]
  },
  {
   "cell_type": "code",
   "execution_count": 62,
   "metadata": {},
   "outputs": [
    {
     "data": {
      "text/plain": [
       "(5, 10)"
      ]
     },
     "execution_count": 62,
     "metadata": {},
     "output_type": "execute_result"
    }
   ],
   "source": [
    "e.shape"
   ]
  },
  {
   "cell_type": "code",
   "execution_count": null,
   "metadata": {},
   "outputs": [],
   "source": []
  },
  {
   "cell_type": "code",
   "execution_count": null,
   "metadata": {},
   "outputs": [],
   "source": [
    "training_loss, validation_loss = model.train(X_train, y_train, X_test, y_test)\n"
   ]
  },
  {
   "cell_type": "code",
   "execution_count": 34,
   "metadata": {},
   "outputs": [
    {
     "name": "stdout",
     "output_type": "stream",
     "text": [
      "Test Accuracy: 11.43%\n"
     ]
    }
   ],
   "source": [
    "# Step 3: Evaluate the Model\n",
    "y_pred = model.predict(X_test)\n",
    "y_pred_classes = np.argmax(y_pred, axis=1)\n",
    "y_test_classes = np.argmax(y_test, axis=1)\n",
    "\n",
    "# Step 4: Calculate Accuracy\n",
    "accuracy = model.accuracy(y_test_classes, y_pred_classes)\n",
    "print(f\"Test Accuracy: {accuracy * 100:.2f}%\")"
   ]
  },
  {
   "cell_type": "code",
   "execution_count": 37,
   "metadata": {},
   "outputs": [
    {
     "data": {
      "text/plain": [
       "array([[0.0984442 , 0.11360162, 0.09985351, ..., 0.10101594, 0.09880851,\n",
       "        0.09915438],\n",
       "       [0.0984442 , 0.11360162, 0.09985351, ..., 0.10101594, 0.09880851,\n",
       "        0.09915438],\n",
       "       [0.0984442 , 0.11360162, 0.09985351, ..., 0.10101594, 0.09880851,\n",
       "        0.09915438],\n",
       "       ...,\n",
       "       [0.0984442 , 0.11360162, 0.09985351, ..., 0.10101594, 0.09880851,\n",
       "        0.09915438],\n",
       "       [0.0984442 , 0.11360162, 0.09985351, ..., 0.10101594, 0.09880851,\n",
       "        0.09915438],\n",
       "       [0.0984442 , 0.11360162, 0.09985351, ..., 0.10101594, 0.09880851,\n",
       "        0.09915438]])"
      ]
     },
     "execution_count": 37,
     "metadata": {},
     "output_type": "execute_result"
    }
   ],
   "source": [
    "y_pred"
   ]
  },
  {
   "cell_type": "code",
   "execution_count": 35,
   "metadata": {},
   "outputs": [
    {
     "data": {
      "text/plain": [
       "array([1, 1, 1, ..., 1, 1, 1], dtype=int64)"
      ]
     },
     "execution_count": 35,
     "metadata": {},
     "output_type": "execute_result"
    }
   ],
   "source": [
    "y_pred_classes"
   ]
  },
  {
   "cell_type": "code",
   "execution_count": 36,
   "metadata": {},
   "outputs": [
    {
     "data": {
      "text/plain": [
       "array([8, 4, 8, ..., 2, 7, 1], dtype=int64)"
      ]
     },
     "execution_count": 36,
     "metadata": {},
     "output_type": "execute_result"
    }
   ],
   "source": [
    "y_test_classes"
   ]
  },
  {
   "cell_type": "code",
   "execution_count": 1,
   "metadata": {},
   "outputs": [],
   "source": [
    "import numpy as np\n",
    "import pandas as pd\n",
    "from matplotlib import pyplot as plt\n"
   ]
  },
  {
   "cell_type": "code",
   "execution_count": 6,
   "metadata": {},
   "outputs": [],
   "source": [
    "train = pd.read_csv(\"C:/Users/denis/Downloads/digit-recognizer/train.csv\")\n",
    "test = pd.read_csv(\"C:/Users/denis/Downloads/digit-recognizer/test.csv\")"
   ]
  },
  {
   "cell_type": "code",
   "execution_count": 9,
   "metadata": {},
   "outputs": [],
   "source": [
    "data = np.array(train)\n",
    "\n",
    "m , n = data.shape"
   ]
  },
  {
   "cell_type": "code",
   "execution_count": 10,
   "metadata": {},
   "outputs": [],
   "source": [
    "np.random.shuffle(data)"
   ]
  },
  {
   "cell_type": "code",
   "execution_count": 11,
   "metadata": {},
   "outputs": [],
   "source": [
    "data_dev = data[0:1000].T\n",
    "Y_dev = data_dev[0]\n",
    "X_dev = data_dev[1:n]\n",
    "\n",
    "data_train = data[1000:m].T\n",
    "Y_train = data_train[0]\n",
    "X_train = data_train[1:n]"
   ]
  },
  {
   "cell_type": "code",
   "execution_count": 15,
   "metadata": {},
   "outputs": [],
   "source": [
    "def  init_params():\n",
    "\n",
    "    W_one = np.random.rand(10, 784) - 0.5\n",
    "    b_one = np.random.rand(10, 1) - 0.5\n",
    "\n",
    "    W_two = np.random.rand(10, 10) - 0.5\n",
    "    b_two = np.random.rand(10, 1) - 0.5\n",
    "\n",
    "    return W_one, b_one, W_two, b_two\n",
    "\n",
    "def relu(Z):\n",
    "\n",
    "    return np.maximum(0, Z)\n",
    "\n",
    "def softmax(Z):\n",
    "\n",
    "    A = np.exp(Z) / sum(np.exp(Z))\n",
    "\n",
    "    return A\n",
    "\n",
    "def forward_prop(W_one, b_one, W_two, b_two, X):\n",
    "\n",
    "    Z_one = W_one.dot(X) + b_one\n",
    "    A_one = relu(Z_one)\n",
    "\n",
    "    Z_two = W_two.dot(A_one) + b_two\n",
    "    A_two = softmax(Z_two)\n",
    "\n",
    "    return Z_one, A_one, Z_two, A_two"
   ]
  },
  {
   "cell_type": "code",
   "execution_count": null,
   "metadata": {},
   "outputs": [],
   "source": []
  }
 ],
 "metadata": {
  "kernelspec": {
   "display_name": ".venv",
   "language": "python",
   "name": "python3"
  },
  "language_info": {
   "codemirror_mode": {
    "name": "ipython",
    "version": 3
   },
   "file_extension": ".py",
   "mimetype": "text/x-python",
   "name": "python",
   "nbconvert_exporter": "python",
   "pygments_lexer": "ipython3",
   "version": "3.11.3"
  }
 },
 "nbformat": 4,
 "nbformat_minor": 2
}
