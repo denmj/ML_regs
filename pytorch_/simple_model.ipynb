{
 "cells": [
  {
   "cell_type": "code",
   "execution_count": 2,
   "metadata": {},
   "outputs": [],
   "source": [
    "%matplotlib inline\n",
    "import os\n",
    "import sys\n",
    "from datetime import datetime\n",
    "\n",
    "import torch\n",
    "import torch.nn as nn\n",
    "import torch.nn.functional as F\n",
    "\n",
    "import torchvision\n",
    "import torchvision.transforms as transforms\n",
    "from torch.utils.data import ConcatDataset\n",
    "import torch.optim as optim\n",
    "from torchmetrics import Accuracy\n",
    "from torchinfo import summary\n",
    "from torch.utils.tensorboard import SummaryWriter\n",
    "\n",
    "\n",
    "import matplotlib.pyplot as plt\n",
    "import numpy as np\n",
    "\n",
    "# Settings \n",
    "\n",
    "torch.set_printoptions(precision=3)"
   ]
  },
  {
   "cell_type": "code",
   "execution_count": 3,
   "metadata": {},
   "outputs": [],
   "source": [
    "transform_normalize = transforms.Compose(\n",
    "    [transforms.ToTensor(),\n",
    "     transforms.Normalize((0.5,), (0.5,))])\n",
    "\n",
    "mnist_trainset = torchvision.datasets.MNIST(root='./data', train=True,\n",
    "                                download=True, transform=transform_normalize)\n",
    "\n",
    "mnist_testset = torchvision.datasets.MNIST(root='./data', train=False,\n",
    "                                 download=True, transform=transform_normalize)\n",
    "\n",
    "# have train and validation sets\n",
    "mnist_trainset, mnist_valset = torch.utils.data.random_split(mnist_trainset, [50000, 10000])\n",
    "\n",
    "\n",
    "classes = ('0', '1', '2', '3', '4', '5', '6', '7', '8', '9')\n",
    "\n",
    "trainloader = torch.utils.data.DataLoader(mnist_trainset, batch_size=64,\n",
    "                                          shuffle=True, num_workers=2)\n",
    "\n",
    "testloader = torch.utils.data.DataLoader(mnist_testset, batch_size=64,\n",
    "                                            shuffle=False, num_workers=2)\n",
    "\n",
    "valiloader = torch.utils.data.DataLoader(mnist_valset, batch_size=64,\n",
    "                                            shuffle=True, num_workers=2)"
   ]
  },
  {
   "cell_type": "code",
   "execution_count": 17,
   "metadata": {},
   "outputs": [],
   "source": [
    "x_train = torch.stack([sample[0] for sample in ConcatDataset([mnist_trainset])])\n",
    "\n",
    "x_test = torch.stack([sample[0] for sample in ConcatDataset([mnist_testset])])"
   ]
  },
  {
   "cell_type": "code",
   "execution_count": 14,
   "metadata": {},
   "outputs": [
    {
     "name": "stderr",
     "output_type": "stream",
     "text": [
      "Clipping input data to the valid range for imshow with RGB data ([0..1] for floats or [0..255] for integers).\n"
     ]
    },
    {
     "data": {
      "image/png": "[encoded data removed]",
      "text/plain": [
       "<Figure size 640x480 with 1 Axes>"
      ]
     },
     "metadata": {},
     "output_type": "display_data"
    }
   ],
   "source": [
    "# show image of shape (1, 28, 28)\n",
    "\n",
    "def imshow(img):\n",
    "    # img = img / 2 + 0.5     # unnormalize\n",
    "    npimg = img.numpy()\n",
    "    plt.imshow(np.transpose(npimg, (1, 2, 0)))\n",
    "    plt.show()\n",
    "\n",
    "imshow(torchvision.utils.make_grid(x_train[0:4]))"
   ]
  },
  {
   "cell_type": "markdown",
   "metadata": {},
   "source": [
    "# MNIST data set"
   ]
  },
  {
   "cell_type": "markdown",
   "metadata": {},
   "source": [
    "## AlexNet CNN"
   ]
  },
  {
   "cell_type": "code",
   "execution_count": 56,
   "metadata": {},
   "outputs": [],
   "source": [
    "class AlexNet(nn.Module):\n",
    "    def __init__(self, num_classes=1000):\n",
    "        super(AlexNet, self).__init__()\n",
    "        self.features = nn.Sequential(\n",
    "            nn.Conv2d(3, 64, kernel_size=11, stride=4, padding=2),\n",
    "            nn.ReLU(inplace=True),\n",
    "            nn.MaxPool2d(kernel_size=3, stride=2),\n",
    "            nn.Conv2d(64, 192, kernel_size=5, padding=2),\n",
    "            nn.ReLU(inplace=True),\n",
    "            nn.MaxPool2d(kernel_size=3, stride=2),\n",
    "            nn.Conv2d(192, 384, kernel_size=3, padding=1),\n",
    "            nn.ReLU(inplace=True),\n",
    "            nn.Conv2d(384, 256, kernel_size=3, padding=1),\n",
    "            nn.ReLU(inplace=True),\n",
    "            nn.Conv2d(256, 256, kernel_size=3, padding=1),\n",
    "            nn.ReLU(inplace=True),\n",
    "            nn.MaxPool2d(kernel_size=3, stride=2),\n",
    "        )\n",
    "        self.avgpool = nn.AdaptiveAvgPool2d((6, 6))\n",
    "        self.classifier = nn.Sequential(\n",
    "            nn.Dropout(),\n",
    "            nn.Linear(256 * 6 * 6, 4096),\n",
    "            nn.ReLU(inplace=True),\n",
    "            nn.Dropout(),\n",
    "            nn.Linear(4096, 4096),\n",
    "            nn.ReLU(inplace=True),\n",
    "            nn.Linear(4096, num_classes),\n",
    "        )\n",
    "\n",
    "    def forward(self, x):\n",
    "        x = self.features(x)\n",
    "        x = self.avgpool(x)\n",
    "        x = torch.flatten(x, 1)\n",
    "        x = self.classifier(x)\n",
    "        return x"
   ]
  },
  {
   "cell_type": "markdown",
   "metadata": {},
   "source": [
    "## LeNet-5 CNN  "
   ]
  },
  {
   "cell_type": "code",
   "execution_count": 53,
   "metadata": {},
   "outputs": [],
   "source": [
    "class LeNet(nn.Module):\n",
    "    def __init__(self):\n",
    "        super(LeNet, self).__init__()\n",
    "        self.conv1 = nn.Conv2d(in_channels=1, out_channels=6, kernel_size=5, padding=2)\n",
    "        self.relu1 = nn.ReLU()\n",
    "        self.pool1 = nn.MaxPool2d(kernel_size=2, stride=2)\n",
    "        self.conv2 = nn.Conv2d(in_channels=6, out_channels=16, kernel_size=5)\n",
    "        self.relu2 = nn.ReLU()\n",
    "        self.pool2 = nn.MaxPool2d(kernel_size=2, stride=2)\n",
    "        self.flatten = nn.Flatten()\n",
    "\n",
    "        self.fc1 = nn.Linear(in_features=16*5*5, out_features=120)\n",
    "        self.relu3 = nn.ReLU()\n",
    "        self.fc2 = nn.Linear(in_features=120, out_features=84)\n",
    "        self.relu4 = nn.ReLU()\n",
    "        self.fc3 = nn.Linear(in_features=84, out_features=10)\n",
    "\n",
    "    def forward(self, x, return_intermediate=False):\n",
    "        outputs = {}\n",
    "\n",
    "        x = self.conv1(x)\n",
    "        x = self.relu1(x)\n",
    "        x = self.pool1(x)\n",
    "        outputs['conv1'] = x\n",
    "\n",
    "        x = self.conv2(x)\n",
    "        x = self.relu2(x)\n",
    "        x = self.pool2(x)\n",
    "        outputs['conv2'] = x\n",
    "\n",
    "        x = self.flatten(x)\n",
    "        outputs['flatten'] = x\n",
    "        \n",
    "        x = self.fc1(x)\n",
    "        x = self.relu3(x)\n",
    "        outputs['fc1'] = x\n",
    "\n",
    "        x = self.fc2(x)\n",
    "        x = self.relu4(x)\n",
    "        outputs['fc2'] = x\n",
    " \n",
    "        x = self.fc3(x)\n",
    "        outputs['fc3'] = x\n",
    "\n",
    "        if return_intermediate:\n",
    "            return outputs, x\n",
    "        else:\n",
    "            return  x\n"
   ]
  },
  {
   "cell_type": "code",
   "execution_count": 5,
   "metadata": {},
   "outputs": [],
   "source": [
    "class LeNet5V1(nn.Module):\n",
    "    def __init__(self):\n",
    "        super().__init__()\n",
    "        self.feature = nn.Sequential(\n",
    "            #1\n",
    "            nn.Conv2d(in_channels=1, out_channels=6, kernel_size=5, stride=1, padding=2),   # 28*28->32*32-->28*28\n",
    "            nn.Tanh(),\n",
    "            nn.AvgPool2d(kernel_size=2, stride=2),  # 14*14\n",
    "            \n",
    "            #2\n",
    "            nn.Conv2d(in_channels=6, out_channels=16, kernel_size=5, stride=1),  # 10*10\n",
    "            nn.Tanh(),\n",
    "            nn.AvgPool2d(kernel_size=2, stride=2),  # 5*5\n",
    "            \n",
    "        )\n",
    "        self.classifier = nn.Sequential(\n",
    "            nn.Flatten(),\n",
    "            nn.Linear(in_features=16*5*5, out_features=120),\n",
    "            nn.Tanh(),\n",
    "            nn.Linear(in_features=120, out_features=84),\n",
    "            nn.Tanh(),\n",
    "            nn.Linear(in_features=84, out_features=10),\n",
    "        )\n",
    "        \n",
    "    def forward(self, x):\n",
    "        return self.classifier(self.feature(x))"
   ]
  },
  {
   "cell_type": "code",
   "execution_count": 30,
   "metadata": {},
   "outputs": [],
   "source": [
    "# To visualize layers of the network\n",
    "vis_model = LeNet()\n",
    "# pass single image through the network\n",
    "outs, x_out = vis_model(x_train[0:1], return_intermediate=True)"
   ]
  },
  {
   "cell_type": "markdown",
   "metadata": {},
   "source": [
    "### Layer 1 - Conv2d - before training"
   ]
  },
  {
   "cell_type": "code",
   "execution_count": 31,
   "metadata": {},
   "outputs": [
    {
     "data": {
      "image/png": "[encoded data removed]",
      "text/plain": [
       "<Figure size 1200x600 with 6 Axes>"
      ]
     },
     "metadata": {},
     "output_type": "display_data"
    }
   ],
   "source": [
    "feature_maps = outs['conv1'].detach().cpu().numpy()\n",
    "\n",
    "\n",
    "fig, axes = plt.subplots(1, len(feature_maps[0]), figsize=(12, 6))\n",
    "for idx, feature_map in enumerate(feature_maps[0]):\n",
    "    axes[idx].imshow(feature_map, cmap='gray')\n",
    "    axes[idx].axis('off')\n",
    "plt.show()"
   ]
  },
  {
   "cell_type": "markdown",
   "metadata": {},
   "source": [
    "### Layer 2 - Conv2d - before training"
   ]
  },
  {
   "cell_type": "code",
   "execution_count": 32,
   "metadata": {},
   "outputs": [
    {
     "data": {
      "image/png": "[encoded data removed]",
      "text/plain": [
       "<Figure size 1200x600 with 16 Axes>"
      ]
     },
     "metadata": {},
     "output_type": "display_data"
    }
   ],
   "source": [
    "feature_maps = outs['conv2'].detach().cpu().numpy()\n",
    "\n",
    "fig, axes = plt.subplots(1, len(feature_maps[0]), figsize=(12, 6))\n",
    "for idx, feature_map in enumerate(feature_maps[0]):\n",
    "    axes[idx].imshow(feature_map, cmap='gray')\n",
    "    axes[idx].axis('off')\n",
    "plt.show()"
   ]
  },
  {
   "cell_type": "code",
   "execution_count": 49,
   "metadata": {},
   "outputs": [],
   "source": [
    "device = torch.device(\"cuda:0\" if torch.cuda.is_available() else \"cpu\")\n",
    "accuracy = Accuracy(task='multiclass', num_classes=10)\n",
    "\n",
    "accuracy = accuracy.to(device)\n",
    "model1 = LeNet().to(device)\n",
    "model5 = LeNet5V1().to(device)\n"
   ]
  },
  {
   "cell_type": "code",
   "execution_count": 9,
   "metadata": {},
   "outputs": [],
   "source": [
    "kernels_conv1 = model1.conv1.weight.data.cpu().numpy()\n",
    "\n",
    "kernels_conv2 = model1.conv2.weight.data.cpu().numpy()"
   ]
  },
  {
   "cell_type": "code",
   "execution_count": 10,
   "metadata": {},
   "outputs": [
    {
     "data": {
      "image/png": "[encoded data removed]",
      "text/plain": [
       "<Figure size 900x150 with 6 Axes>"
      ]
     },
     "metadata": {},
     "output_type": "display_data"
    }
   ],
   "source": [
    "num_kernels = kernels_conv1.shape[0]\n",
    "\n",
    "# Set up the figure size and grid for subplots\n",
    "fig, axs = plt.subplots(1, num_kernels, figsize=(num_kernels*1.5, 1.5))\n",
    "\n",
    "for i, ax in enumerate(axs):\n",
    "    # Remove axis as we are interested in the patterns\n",
    "    ax.axis('off')\n",
    "    \n",
    "    # Visualize the i-th kernel of the first convolutional layer\n",
    "    ax.imshow(kernels_conv1[i, 0], cmap='gray')  # Assuming grayscale kernels, adjust if your data has more channels\n",
    "\n",
    "plt.show()"
   ]
  },
  {
   "cell_type": "code",
   "execution_count": 11,
   "metadata": {},
   "outputs": [
    {
     "data": {
      "image/png": "[encoded data removed]",
      "text/plain": [
       "<Figure size 2400x150 with 16 Axes>"
      ]
     },
     "metadata": {},
     "output_type": "display_data"
    }
   ],
   "source": [
    "num_kernels = kernels_conv2.shape[0]\n",
    "\n",
    "# Set up the figure size and grid for subplots\n",
    "fig, axs = plt.subplots(1, num_kernels, figsize=(num_kernels*1.5, 1.5))\n",
    "\n",
    "for i, ax in enumerate(axs):\n",
    "    # Remove axis as we are interested in the patterns\n",
    "    ax.axis('off')\n",
    "    \n",
    "    # Visualize the i-th kernel of the first convolutional layer\n",
    "    ax.imshow(kernels_conv2[i, 0], cmap='gray')  # Assuming grayscale kernels, adjust if your data has more channels\n",
    "\n",
    "plt.show()"
   ]
  },
  {
   "cell_type": "code",
   "execution_count": 50,
   "metadata": {},
   "outputs": [],
   "source": [
    "criterion = nn.CrossEntropyLoss()\n",
    "optimizer = optim.Adam(model5.parameters(), lr=0.001)\n",
    "\n",
    "criterion_second = nn.CrossEntropyLoss()\n",
    "optimizer_second = torch.optim.SGD(model1.parameters(), lr=0.001, momentum=0.9)\n",
    "\n",
    "\n"
   ]
  },
  {
   "cell_type": "code",
   "execution_count": 51,
   "metadata": {},
   "outputs": [
    {
     "data": {
      "text/plain": [
       "========================================================================================================================\n",
       "Layer (type (var_name))                  Input Shape          Output Shape         Param #              Trainable\n",
       "========================================================================================================================\n",
       "LeNet (LeNet)                            [1, 1, 28, 28]       [1, 10]              --                   True\n",
       "├─Conv2d (conv1)                         [1, 1, 28, 28]       [1, 6, 28, 28]       156                  True\n",
       "├─ReLU (relu1)                           [1, 6, 28, 28]       [1, 6, 28, 28]       --                   --\n",
       "├─MaxPool2d (pool1)                      [1, 6, 28, 28]       [1, 6, 14, 14]       --                   --\n",
       "├─Conv2d (conv2)                         [1, 6, 14, 14]       [1, 16, 10, 10]      2,416                True\n",
       "├─ReLU (relu2)                           [1, 16, 10, 10]      [1, 16, 10, 10]      --                   --\n",
       "├─MaxPool2d (pool2)                      [1, 16, 10, 10]      [1, 16, 5, 5]        --                   --\n",
       "├─Flatten (flatten)                      [1, 16, 5, 5]        [1, 400]             --                   --\n",
       "├─Linear (fc1)                           [1, 400]             [1, 120]             48,120               True\n",
       "├─ReLU (relu3)                           [1, 120]             [1, 120]             --                   --\n",
       "├─Linear (fc2)                           [1, 120]             [1, 84]              10,164               True\n",
       "├─ReLU (relu4)                           [1, 84]              [1, 84]              --                   --\n",
       "├─Linear (fc3)                           [1, 84]              [1, 10]              850                  True\n",
       "========================================================================================================================\n",
       "Total params: 61,706\n",
       "Trainable params: 61,706\n",
       "Non-trainable params: 0\n",
       "Total mult-adds (Units.MEGABYTES): 0.42\n",
       "========================================================================================================================\n",
       "Input size (MB): 0.00\n",
       "Forward/backward pass size (MB): 0.05\n",
       "Params size (MB): 0.25\n",
       "Estimated Total Size (MB): 0.30\n",
       "========================================================================================================================"
      ]
     },
     "execution_count": 51,
     "metadata": {},
     "output_type": "execute_result"
    }
   ],
   "source": [
    "summary(model=model1, input_size=(1, 1, 28, 28), col_width=20,\n",
    "                  col_names=['input_size', 'output_size', 'num_params', 'trainable'], row_settings=['var_names'], verbose=0)"
   ]
  },
  {
   "cell_type": "code",
   "execution_count": 14,
   "metadata": {},
   "outputs": [],
   "source": [
    "# Track the loss and accuracy\n",
    "timestamp = datetime.now().strftime(\"%Y-%m-%d\")\n",
    "experiment_name = f'LeNet5_MNIST_{timestamp}'\n",
    "model_name = 'LeNet5'\n",
    "log_dir = os.path.join('runs', timestamp, experiment_name, model_name)\n",
    "log_writer = SummaryWriter(log_dir=log_dir)"
   ]
  },
  {
   "cell_type": "code",
   "execution_count": 52,
   "metadata": {},
   "outputs": [
    {
     "name": "stdout",
     "output_type": "stream",
     "text": [
      "Epoch 1, Loss: 1.7397, Accuracy: 0.5047\n",
      "Epoch 2, Loss: 0.2544, Accuracy: 0.9256\n"
     ]
    }
   ],
   "source": [
    "\n",
    "for epoch in range(10):  # loop over the dataset multiple times\n",
    "    train_loss, train_acc = 0, 0\n",
    "    for X, y in trainloader:\n",
    "        X, y = X.to(device), y.to(device)\n",
    "\n",
    "        model1.train()\n",
    "        # model5.train()\n",
    "\n",
    "        # y_pred = model5(X)\n",
    "        y_pred = model1(X)\n",
    "\n",
    "        loss = criterion(y_pred, y)\n",
    "        train_loss += loss.item()\n",
    "\n",
    "        acc = accuracy(y_pred, y)\n",
    "        train_acc += acc\n",
    "\n",
    "        optimizer_second.zero_grad()\n",
    "        loss.backward()\n",
    "        optimizer_second.step()\n",
    "    \n",
    "    train_loss /= len(trainloader)\n",
    "    train_acc /= len(trainloader)\n",
    "    log_writer.add_scalars(main_tag=\"Loss\", tag_scalar_dict={\"train/loss\": train_loss}, global_step=epoch)\n",
    "    log_writer.add_scalars(main_tag=\"Accuracy\", tag_scalar_dict={\"train/acc\": train_acc}, global_step=epoch)\n",
    "    print(f'Epoch {epoch+1}, Loss: {train_loss:.4f}, Accuracy: {train_acc:.4f}')\n",
    "    "
   ]
  },
  {
   "cell_type": "code",
   "execution_count": 36,
   "metadata": {},
   "outputs": [
    {
     "name": "stdout",
     "output_type": "stream",
     "text": [
      "Epoch [1/10], Loss: 0.0312, Accuracy: 98.97%\n",
      "Epoch [2/10], Loss: 0.0255, Accuracy: 99.18%\n",
      "Epoch [3/10], Loss: 0.0233, Accuracy: 99.21%\n",
      "Epoch [4/10], Loss: 0.0194, Accuracy: 99.35%\n",
      "Epoch [5/10], Loss: 0.0156, Accuracy: 99.51%\n",
      "Finished Training\n"
     ]
    }
   ],
   "source": [
    "\n",
    "for epoch in range(5):  # loop over the dataset multiple times\n",
    "    \n",
    "    correct = 0\n",
    "    total = 0\n",
    "    running_loss = 0.0\n",
    "    for i, data in enumerate(trainloader, 0):\n",
    "        # get the inputs\n",
    "        inputs, labels = data[0].to(device), data[1].to(device)  # Move inputs and labels to the correct device\n",
    "        model5.train()\n",
    "        # zero the parameter gradients\n",
    "        optimizer.zero_grad()\n",
    "        \n",
    "        # forward + backward + optimize\n",
    "        outputs = model5(inputs)\n",
    "        loss = criterion(outputs, labels)\n",
    "        loss.backward()\n",
    "        optimizer.step()\n",
    "\n",
    "        # print statistics\n",
    "        running_loss += loss.item()\n",
    "        _, predicted = torch.max(outputs.data, 1)\n",
    "        total += labels.size(0)\n",
    "\n",
    "        correct += (predicted == labels).sum().item()\n",
    "\n",
    "    epoch_loss = running_loss / len(trainloader)\n",
    "    epoch_accuracy = 100 * correct / total\n",
    "\n",
    "    print(f'Epoch [{epoch+1}/10], Loss: {epoch_loss:.4f}, Accuracy: {epoch_accuracy:.2f}%')\n",
    "\n",
    "\n",
    "print('Finished Training')"
   ]
  },
  {
   "cell_type": "code",
   "execution_count": 53,
   "metadata": {},
   "outputs": [],
   "source": [
    "x = x_train[0:1].to(device)\n",
    "outs_trained, perdictions = model1(x, return_intermediate=True)"
   ]
  },
  {
   "cell_type": "markdown",
   "metadata": {},
   "source": [
    "### Layer 1 - Conv2d - after training"
   ]
  },
  {
   "cell_type": "code",
   "execution_count": 59,
   "metadata": {},
   "outputs": [
    {
     "data": {
      "image/png": "[encoded data removed]",
      "text/plain": [
       "<Figure size 1200x600 with 6 Axes>"
      ]
     },
     "metadata": {},
     "output_type": "display_data"
    }
   ],
   "source": [
    "feature_maps_trained = outs_trained['conv1'].detach().cpu().numpy()\n",
    "\n",
    "\n",
    "fig, axes = plt.subplots(1, len(feature_maps_trained[0]), figsize=(12, 6))\n",
    "for idx, feature_map in enumerate(feature_maps_trained[0]):\n",
    "    axes[idx].imshow(feature_map, cmap='gray')\n",
    "    axes[idx].axis('off')\n",
    "plt.show()"
   ]
  },
  {
   "cell_type": "markdown",
   "metadata": {},
   "source": [
    "### Layer 2 - Conv2d - after training"
   ]
  },
  {
   "cell_type": "code",
   "execution_count": 60,
   "metadata": {},
   "outputs": [
    {
     "data": {
      "image/png": "[encoded data removed]",
      "text/plain": [
       "<Figure size 1200x600 with 16 Axes>"
      ]
     },
     "metadata": {},
     "output_type": "display_data"
    }
   ],
   "source": [
    "feature_maps_trained = outs_trained['conv2'].detach().cpu().numpy()\n",
    "\n",
    "fig, axes = plt.subplots(1, len(feature_maps_trained[0]), figsize=(12, 6))\n",
    "for idx, feature_map in enumerate(feature_maps_trained[0]):\n",
    "    axes[idx].imshow(feature_map, cmap='gray')\n",
    "    axes[idx].axis('off')\n",
    "plt.show()"
   ]
  },
  {
   "cell_type": "code",
   "execution_count": 18,
   "metadata": {},
   "outputs": [],
   "source": [
    "kernels_conv1_trained = model1.conv1.weight.data.cpu().numpy()\n",
    "\n",
    "kernels_conv2_trained = model1.conv2.weight.data.cpu().numpy()"
   ]
  },
  {
   "cell_type": "code",
   "execution_count": 19,
   "metadata": {},
   "outputs": [
    {
     "data": {
      "image/png": "[encoded data removed]",
      "text/plain": [
       "<Figure size 900x150 with 6 Axes>"
      ]
     },
     "metadata": {},
     "output_type": "display_data"
    }
   ],
   "source": [
    "num_kernels = kernels_conv1_trained.shape[0]\n",
    "\n",
    "# Set up the figure size and grid for subplots\n",
    "fig, axs = plt.subplots(1, num_kernels, figsize=(num_kernels*1.5, 1.5))\n",
    "\n",
    "for i, ax in enumerate(axs):\n",
    "    # Remove axis as we are interested in the patterns\n",
    "    ax.axis('off')\n",
    "    \n",
    "    # Visualize the i-th kernel of the first convolutional layer\n",
    "    ax.imshow(kernels_conv1_trained[i, 0], cmap='gray')  # Assuming grayscale kernels, adjust if your data has more channels\n",
    "\n",
    "plt.show()"
   ]
  },
  {
   "cell_type": "code",
   "execution_count": 20,
   "metadata": {},
   "outputs": [
    {
     "data": {
      "image/png": "[encoded data removed]",
      "text/plain": [
       "<Figure size 2400x150 with 16 Axes>"
      ]
     },
     "metadata": {},
     "output_type": "display_data"
    }
   ],
   "source": [
    "num_kernels = kernels_conv2_trained.shape[0]\n",
    "\n",
    "# Set up the figure size and grid for subplots\n",
    "fig, axs = plt.subplots(1, num_kernels, figsize=(num_kernels*1.5, 1.5))\n",
    "\n",
    "for i, ax in enumerate(axs):\n",
    "    # Remove axis as we are interested in the patterns\n",
    "    ax.axis('off')\n",
    "    \n",
    "    # Visualize the i-th kernel of the first convolutional layer\n",
    "    ax.imshow(kernels_conv2_trained[i, 0], cmap='gray')  # Assuming grayscale kernels, adjust if your data has more channels\n",
    "\n",
    "plt.show()"
   ]
  },
  {
   "cell_type": "code",
   "execution_count": null,
   "metadata": {},
   "outputs": [],
   "source": [
    "%load_ext tensorboard\n",
    "%tensorboard --logdir={log_dir}"
   ]
  },
  {
   "cell_type": "code",
   "execution_count": 40,
   "metadata": {},
   "outputs": [],
   "source": [
    "torch.save(model5.state_dict(), 'model.pth')"
   ]
  },
  {
   "cell_type": "code",
   "execution_count": 48,
   "metadata": {},
   "outputs": [],
   "source": [
    "# Clean cude\n",
    "torch.cuda.empty_cache()"
   ]
  },
  {
   "cell_type": "markdown",
   "metadata": {},
   "source": [
    "# CIFAR10"
   ]
  },
  {
   "cell_type": "markdown",
   "metadata": {},
   "source": []
  }
 ],
 "metadata": {
  "kernelspec": {
   "display_name": ".venv",
   "language": "python",
   "name": "python3"
  },
  "language_info": {
   "codemirror_mode": {
    "name": "ipython",
    "version": 3
   },
   "file_extension": ".py",
   "mimetype": "text/x-python",
   "name": "python",
   "nbconvert_exporter": "python",
   "pygments_lexer": "ipython3",
   "version": "3.11.3"
  }
 },
 "nbformat": 4,
 "nbformat_minor": 2
}
