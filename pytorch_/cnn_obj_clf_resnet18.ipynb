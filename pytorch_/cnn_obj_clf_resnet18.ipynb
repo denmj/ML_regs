{
 "cells": [
  {
   "cell_type": "code",
   "execution_count": 2,
   "metadata": {},
   "outputs": [],
   "source": [
    "import numpy as np\n",
    "import torch\n",
    "import torch.nn as nn\n",
    "import torch.nn.functional as F\n",
    "import torch.optim as optim\n",
    "from resnet import ResNet\n",
    "from torchvision import transforms, datasets\n",
    "\n",
    "from torchmetrics import Accuracy\n",
    "from torchinfo import summary\n"
   ]
  },
  {
   "cell_type": "code",
   "execution_count": 5,
   "metadata": {},
   "outputs": [],
   "source": [
    "class MNISTNoZero(datasets.MNIST):\n",
    "    def __init__(self, *args, **kwargs):\n",
    "        super(MNISTNoZero, self).__init__(*args, **kwargs)\n",
    "        \n",
    "        # Filter out indices of all '0' digits\n",
    "        self.non_zero_indices = [i for i, target in enumerate(self.targets) if target != 0]\n",
    "        \n",
    "        # Keep only the data and targets that are not '0'\n",
    "        self.data = self.data[self.non_zero_indices]\n",
    "        self.targets = self.targets[self.non_zero_indices] - 1\n",
    "\n",
    "\n",
    "# Define the preprocessing transformation\n",
    "transform = transforms.Compose([\n",
    "    transforms.Resize(256),  # Resize the image to 256x256 pixels\n",
    "    transforms.CenterCrop(224),  # Crop the center 224x224 pixels of the image\n",
    "    transforms.ToTensor(),  # Convert the image to a PyTorch tensor\n",
    "    transforms.Normalize(mean=[0.485, 0.456, 0.406], std=[0.229, 0.224, 0.225]),  # Normalize pixel values\n",
    "])\n",
    "\n",
    "\n",
    "# Create training and test datasets without '0' digits\n",
    "mnist_trainset_no_zero = MNISTNoZero(root='./data', train=True, download=True, transform=transform)\n",
    "\n",
    "mnist_testset_no_zero = MNISTNoZero(root='./data', train=False, download=True, transform=transform)\n",
    "\n",
    "\n",
    "# Apply the transformation to your image\n",
    "# preprocessed_image = transform(image)"
   ]
  },
  {
   "cell_type": "code",
   "execution_count": 6,
   "metadata": {},
   "outputs": [],
   "source": [
    "train_dataset, val_dataset = torch.utils.data.random_split(mnist_trainset_no_zero, [45077, 9000])\n",
    "\n",
    "trainloader = torch.utils.data.DataLoader(train_dataset, batch_size=64,\n",
    "                                          shuffle=True, num_workers=0)\n",
    "\n",
    "# good\n",
    "testloader = torch.utils.data.DataLoader(mnist_testset_no_zero, batch_size=64,\n",
    "                                            shuffle=False, num_workers=0)\n",
    "\n",
    "valloader = torch.utils.data.DataLoader(val_dataset, batch_size=64,\n",
    "                                            shuffle=False, num_workers=0)"
   ]
  },
  {
   "cell_type": "code",
   "execution_count": null,
   "metadata": {},
   "outputs": [],
   "source": []
  }
 ],
 "metadata": {
  "kernelspec": {
   "display_name": ".venv",
   "language": "python",
   "name": "python3"
  },
  "language_info": {
   "codemirror_mode": {
    "name": "ipython",
    "version": 3
   },
   "file_extension": ".py",
   "mimetype": "text/x-python",
   "name": "python",
   "nbconvert_exporter": "python",
   "pygments_lexer": "ipython3",
   "version": "3.11.3"
  }
 },
 "nbformat": 4,
 "nbformat_minor": 2
}
