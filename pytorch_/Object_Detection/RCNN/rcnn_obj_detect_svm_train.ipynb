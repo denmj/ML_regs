{
 "cells": [
  {
   "cell_type": "code",
   "execution_count": 1,
   "metadata": {},
   "outputs": [],
   "source": [
    "import sys\n",
    "import gc  # Garbage collector interface\n",
    "\n",
    "\n",
    "from sklearn import svm\n",
    "from sklearn.model_selection import train_test_split, GridSearchCV\n",
    "from sklearn.preprocessing import StandardScaler\n",
    "from sklearn.metrics import classification_report\n",
    "import pickle\n",
    "\n",
    "# Balance the dataset\n",
    "from imblearn.over_sampling import SMOTE\n",
    "\n"
   ]
  },
  {
   "cell_type": "code",
   "execution_count": 2,
   "metadata": {},
   "outputs": [
    {
     "name": "stdout",
     "output_type": "stream",
     "text": [
      "Size of svm_dataset: 7.071983337402344 MB\n"
     ]
    }
   ],
   "source": [
    "svm_data_list = ['svm_dataset_0_5', 'svm_dataset_0', 'svm_dataset_1', 'svm_dataset_1_5', 'svm_dataset_2', 'svm_dataset_3', 'svm_dataset_4', 'svm_dataset_5' ]\n",
    "\n",
    "svm_data = []\n",
    "\n",
    "for f_name in svm_data_list:\n",
    "    with open(f_name + '.pkl', 'rb') as f:\n",
    "        svm_data.extend(pickle.load(f))\n",
    "\n",
    "print('Size of svm_dataset:', sys.getsizeof(svm_data) / 1024 / 1024, 'MB')\n"
   ]
  },
  {
   "cell_type": "code",
   "execution_count": 3,
   "metadata": {},
   "outputs": [
    {
     "data": {
      "text/plain": [
       "823935"
      ]
     },
     "execution_count": 3,
     "metadata": {},
     "output_type": "execute_result"
    }
   ],
   "source": [
    "len(svm_data)"
   ]
  },
  {
   "cell_type": "code",
   "execution_count": 4,
   "metadata": {},
   "outputs": [
    {
     "name": "stdout",
     "output_type": "stream",
     "text": [
      "Done\n"
     ]
    }
   ],
   "source": [
    "features, labels = zip(*svm_data)\n",
    "classes = set(labels)  # Unique classes from your labels\n",
    "\n",
    "# Normalize the features\n",
    "features = [x.flatten() for x in features]\n",
    "scaler = StandardScaler()\n",
    "\n",
    "# Delete the original DataFrame\n",
    "del svm_data\n",
    "\n",
    "# Manually trigger garbage collection\n",
    "gc.collect()\n",
    "\n",
    "print(\"Done\")\n"
   ]
  },
  {
   "cell_type": "code",
   "execution_count": 5,
   "metadata": {},
   "outputs": [
    {
     "name": "stdout",
     "output_type": "stream",
     "text": [
      "Size of features: 6.366233825683594 MB\n"
     ]
    }
   ],
   "source": [
    "print('Size of features:', sys.getsizeof(features) / 1024 / 1024, 'MB')"
   ]
  },
  {
   "cell_type": "code",
   "execution_count": null,
   "metadata": {},
   "outputs": [],
   "source": [
    "# perform a scaling on the data in a batch process as memory is limited\n",
    "features_scaled = []\n",
    "for i in range(0, len(features), 1000):\n",
    "    print(i)\n",
    "    features_scaled.extend(scaler.fit_transform(features[i:i+1000]))\n",
    "\n",
    "# Delete the original DataFrame\n",
    "del features\n",
    "\n",
    "# Manually trigger garbage collection\n",
    "gc.collect()\n",
    "\n",
    "print(\"Done\")\n"
   ]
  },
  {
   "cell_type": "code",
   "execution_count": 7,
   "metadata": {},
   "outputs": [
    {
     "name": "stdout",
     "output_type": "stream",
     "text": [
      "Training SVM for class: diningtable\n"
     ]
    }
   ],
   "source": [
    "svm_classifiers = {}\n",
    "\n",
    "for class_label in classes:\n",
    "    print(f\"Training SVM for class: {class_label}\")\n",
    "    # Create binary labels for the current class\n",
    "    binary_labels = [1 if label == class_label else 0 for label in labels]\n",
    "\n",
    "    # Split data\n",
    "    X_train, X_test, y_train, y_test = train_test_split(features_scaled, binary_labels, test_size=0.2, random_state=42)\n",
    "\n",
    "    # smote = SMOTE(random_state=42)\n",
    "    # X_train, y_train = smote.fit_resample(X_train, y_train)\n",
    "\n",
    "\n",
    "    # Define the SVM and perform grid search\n",
    "    parameters = {'C': [0.1, 1, 10, 100], 'kernel': ['linear', 'rbf']}\n",
    "    svc = svm.SVC(class_weight='balanced')  # Adjust class weights for imbalance\n",
    "    clf = GridSearchCV(svc, parameters, cv=5)\n",
    "    clf.fit(X_train, y_train)\n",
    "\n",
    "    # Store the classifier\n",
    "    svm_classifiers[class_label] = clf\n",
    "\n",
    "    # Output the best parameters and performance metrics\n",
    "    print(f\"Best parameters for {class_label}: {clf.best_params_}\")\n",
    "    print(\"Classification Report:\")\n",
    "    print(classification_report(y_test, clf.predict(X_test)))\n",
    "\n",
    "\n"
   ]
  },
  {
   "cell_type": "code",
   "execution_count": null,
   "metadata": {},
   "outputs": [],
   "source": []
  }
 ],
 "metadata": {
  "kernelspec": {
   "display_name": ".venv",
   "language": "python",
   "name": "python3"
  },
  "language_info": {
   "codemirror_mode": {
    "name": "ipython",
    "version": 3
   },
   "file_extension": ".py",
   "mimetype": "text/x-python",
   "name": "python",
   "nbconvert_exporter": "python",
   "pygments_lexer": "ipython3",
   "version": "3.11.3"
  }
 },
 "nbformat": 4,
 "nbformat_minor": 2
}
