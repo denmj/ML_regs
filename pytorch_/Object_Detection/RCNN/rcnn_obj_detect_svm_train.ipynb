{
 "cells": [
  {
   "cell_type": "code",
   "execution_count": 2,
   "metadata": {},
   "outputs": [],
   "source": [
    "import sys\n",
    "\n",
    "\n",
    "from sklearn import svm\n",
    "from sklearn.model_selection import train_test_split, GridSearchCV\n",
    "from sklearn.preprocessing import StandardScaler\n",
    "from sklearn.metrics import classification_report\n",
    "import pickle\n",
    "\n",
    "# Balance the dataset\n",
    "from imblearn.over_sampling import SMOTE\n"
   ]
  },
  {
   "cell_type": "code",
   "execution_count": null,
   "metadata": {},
   "outputs": [],
   "source": [
    "with open('svm_dataset.pkl', 'rb') as f:\n",
    "    svm_dataset = pickle.load(f)\n",
    "\n",
    "\n",
    "print('Size of svm_dataset:', sys.getsizeof(svm_dataset) / 1024 / 1024, 'MB')\n"
   ]
  },
  {
   "cell_type": "code",
   "execution_count": 23,
   "metadata": {},
   "outputs": [],
   "source": [
    "features, labels = zip(*svm_dataset)\n",
    "classes = set(labels)  # Unique classes from your labels\n",
    "\n",
    "# Normalize the features\n",
    "features = [x.flatten() for x in features]\n",
    "scaler = StandardScaler()\n",
    "features_scaled = scaler.fit_transform(features)\n"
   ]
  },
  {
   "cell_type": "code",
   "execution_count": 12,
   "metadata": {},
   "outputs": [],
   "source": [
    "svm_classifiers = {}\n",
    "\n",
    "for class_label in classes:\n",
    "    print(f\"Training SVM for class: {class_label}\")\n",
    "    # Create binary labels for the current class\n",
    "    binary_labels = [1 if label == class_label else 0 for label in labels]\n",
    "\n",
    "    # Split data\n",
    "    X_train, X_test, y_train, y_test = train_test_split(features_scaled, binary_labels, test_size=0.2, random_state=42)\n",
    "\n",
    "    smote = SMOTE(random_state=42)\n",
    "    X_train, y_train = smote.fit_resample(X_train, y_train)\n",
    "\n",
    "\n",
    "    # Define the SVM and perform grid search\n",
    "    parameters = {'C': [0.1, 1, 10, 100], 'kernel': ['linear', 'rbf']}\n",
    "    svc = svm.SVC(class_weight='balanced')  # Adjust class weights for imbalance\n",
    "    clf = GridSearchCV(svc, parameters, cv=5)\n",
    "    clf.fit(X_train, y_train)\n",
    "\n",
    "    # Store the classifier\n",
    "    svm_classifiers[class_label] = clf\n",
    "\n",
    "    # Output the best parameters and performance metrics\n",
    "    print(f\"Best parameters for {class_label}: {clf.best_params_}\")\n",
    "    print(\"Classification Report:\")\n",
    "    print(classification_report(y_test, clf.predict(X_test)))\n",
    "\n",
    "\n"
   ]
  }
 ],
 "metadata": {
  "kernelspec": {
   "display_name": ".venv",
   "language": "python",
   "name": "python3"
  },
  "language_info": {
   "codemirror_mode": {
    "name": "ipython",
    "version": 3
   },
   "file_extension": ".py",
   "mimetype": "text/x-python",
   "name": "python",
   "nbconvert_exporter": "python",
   "pygments_lexer": "ipython3",
   "version": "3.11.3"
  }
 },
 "nbformat": 4,
 "nbformat_minor": 2
}
