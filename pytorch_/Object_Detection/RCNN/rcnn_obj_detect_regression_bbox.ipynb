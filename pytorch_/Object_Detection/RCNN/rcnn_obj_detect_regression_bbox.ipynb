{
 "cells": [
  {
   "cell_type": "code",
   "execution_count": 3,
   "metadata": {},
   "outputs": [],
   "source": [
    "import pickle\n",
    "import sys\n",
    "\n",
    "from sklearn.linear_model import LinearRegression\n",
    "from sklearn.model_selection import train_test_split\n",
    "import numpy as np\n"
   ]
  },
  {
   "cell_type": "code",
   "execution_count": 4,
   "metadata": {},
   "outputs": [
    {
     "name": "stdout",
     "output_type": "stream",
     "text": [
      "Size of svm_dataset: 2.4119186401367188 MB\n"
     ]
    }
   ],
   "source": [
    "with open('regression_dataset.pkl', 'rb') as f:\n",
    "    rg_dataset = pickle.load(f)\n",
    "\n",
    "\n",
    "print('Size of svm_dataset:', sys.getsizeof(rg_dataset) / 1024 / 1024, 'MB')"
   ]
  },
  {
   "cell_type": "code",
   "execution_count": 5,
   "metadata": {},
   "outputs": [],
   "source": [
    "features, targets = zip(*rg_dataset)"
   ]
  },
  {
   "cell_type": "code",
   "execution_count": null,
   "metadata": {},
   "outputs": [],
   "source": [
    "\n",
    "features = np.array(features)\n",
    "targets = np.array(targets)  # targets should be an array of shape (n_samples, 4)\n",
    "\n",
    "# Split data into training and testing sets\n",
    "X_train, X_test, y_train, y_test = train_test_split(features, targets, test_size=0.2, random_state=42)\n",
    "\n",
    "# Train a separate regressor for each target (tx, ty, tw, th)\n",
    "regressors = {}\n",
    "for i, name in enumerate(['tx', 'ty', 'tw', 'th']):\n",
    "    reg = LinearRegression()\n",
    "    reg.fit(X_train, y_train[:, i])\n",
    "    regressors[name] = reg\n",
    "    print(f'Training accuracy for {name}:', reg.score(X_train, y_train[:, i]))\n",
    "    print(f'Test accuracy for {name}:', reg.score(X_test, y_test[:, i]))"
   ]
  }
 ],
 "metadata": {
  "kernelspec": {
   "display_name": ".venv",
   "language": "python",
   "name": "python3"
  },
  "language_info": {
   "codemirror_mode": {
    "name": "ipython",
    "version": 3
   },
   "file_extension": ".py",
   "mimetype": "text/x-python",
   "name": "python",
   "nbconvert_exporter": "python",
   "pygments_lexer": "ipython3",
   "version": "3.11.3"
  }
 },
 "nbformat": 4,
 "nbformat_minor": 2
}
