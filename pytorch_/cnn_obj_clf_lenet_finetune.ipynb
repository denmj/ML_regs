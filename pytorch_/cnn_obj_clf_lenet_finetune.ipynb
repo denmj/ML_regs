{
 "cells": [
  {
   "cell_type": "code",
   "execution_count": 18,
   "metadata": {},
   "outputs": [],
   "source": [
    "import numpy as np\n",
    "import torch\n",
    "import torch.nn as nn\n",
    "import torch.nn.functional as F\n",
    "import torch.optim as optim\n",
    "from Lenet import LeNet5\n",
    "from torchvision import transforms, datasets\n",
    "\n",
    "from torchmetrics import Accuracy\n",
    "from torchinfo import summary\n",
    "\n"
   ]
  },
  {
   "cell_type": "code",
   "execution_count": 2,
   "metadata": {},
   "outputs": [],
   "source": [
    "# Normalization transform\n",
    "transform_normalize = transforms.Compose([\n",
    "    transforms.ToTensor(),\n",
    "    transforms.Normalize((0.5,), (0.5,))\n",
    "])\n",
    "\n",
    "mnist_dataset = datasets.MNIST(root='./data', train=True, download=True, transform=transform_normalize)"
   ]
  },
  {
   "cell_type": "code",
   "execution_count": 3,
   "metadata": {},
   "outputs": [
    {
     "name": "stdout",
     "output_type": "stream",
     "text": [
      "Number of images in the subset: 100\n"
     ]
    }
   ],
   "source": [
    "indices_of_zeros = [i for i, label in enumerate(mnist_dataset.targets) if label == 0]\n",
    "\n",
    "# Randomly select 100-200 indices of '0' digits\n",
    "# You can adjust the number by changing the value of num_samples\n",
    "num_samples = 100  # or 200, depending on your requirement\n",
    "selected_indices = np.random.choice(indices_of_zeros, num_samples, replace=False)\n",
    "\n",
    "# Create a subset from the MNIST dataset using the selected indices\n",
    "subset_of_zeros = torch.utils.data.Subset(mnist_dataset, selected_indices)\n",
    "\n",
    "# Verify the dataset\n",
    "print(f\"Number of images in the subset: {len(subset_of_zeros)}\")\n"
   ]
  },
  {
   "cell_type": "code",
   "execution_count": 15,
   "metadata": {},
   "outputs": [],
   "source": [
    "zero_loader = torch.utils.data.DataLoader(subset_of_zeros, batch_size=10, shuffle=True, num_workers=0)\n"
   ]
  },
  {
   "cell_type": "code",
   "execution_count": 11,
   "metadata": {},
   "outputs": [
    {
     "data": {
      "text/plain": [
       "<All keys matched successfully>"
      ]
     },
     "execution_count": 11,
     "metadata": {},
     "output_type": "execute_result"
    }
   ],
   "source": [
    "pre_trained_model = LeNet5(num_classes=9)\n",
    "\n",
    "pre_trained_model.load_state_dict(torch.load('lenet_1_to_9_v2.pth'))"
   ]
  },
  {
   "cell_type": "code",
   "execution_count": 13,
   "metadata": {},
   "outputs": [],
   "source": [
    "# Modify the last layer of the classifier to output 10 classes\n",
    "pre_trained_model.classifier[5] = nn.Linear(in_features=84, out_features=10, bias=True)\n"
   ]
  },
  {
   "cell_type": "code",
   "execution_count": 19,
   "metadata": {},
   "outputs": [],
   "source": [
    "criterion = nn.CrossEntropyLoss()\n",
    "optimizer = torch.optim.Adam(pre_trained_model.classifier[5].parameters(), lr=1e-4)"
   ]
  },
  {
   "cell_type": "code",
   "execution_count": 21,
   "metadata": {},
   "outputs": [],
   "source": [
    "device = torch.device(\"cuda:0\" if torch.cuda.is_available() else \"cpu\")\n",
    "\n",
    "accuracy = Accuracy(task='multiclass', num_classes=10)\n",
    "accuracy = accuracy.to(device)\n",
    "\n",
    "pre_trained_model = pre_trained_model.to(device)"
   ]
  },
  {
   "cell_type": "code",
   "execution_count": 24,
   "metadata": {},
   "outputs": [
    {
     "name": "stdout",
     "output_type": "stream",
     "text": [
      "Epoch 1/25, Loss: 1.2428, Accuracy: 0.9500\n",
      "Epoch 2/25, Loss: 1.1982, Accuracy: 0.9800\n",
      "Epoch 3/25, Loss: 1.1553, Accuracy: 0.9900\n",
      "Epoch 4/25, Loss: 1.1133, Accuracy: 0.9900\n",
      "Epoch 5/25, Loss: 1.0729, Accuracy: 0.9900\n",
      "Epoch 6/25, Loss: 1.0342, Accuracy: 0.9900\n",
      "Epoch 7/25, Loss: 0.9964, Accuracy: 0.9900\n",
      "Epoch 8/25, Loss: 0.9602, Accuracy: 0.9900\n",
      "Epoch 9/25, Loss: 0.9255, Accuracy: 0.9900\n",
      "Epoch 10/25, Loss: 0.8921, Accuracy: 0.9900\n",
      "Epoch 11/25, Loss: 0.8597, Accuracy: 0.9900\n",
      "Epoch 12/25, Loss: 0.8289, Accuracy: 0.9900\n",
      "Epoch 13/25, Loss: 0.7992, Accuracy: 0.9900\n",
      "Epoch 14/25, Loss: 0.7708, Accuracy: 0.9900\n",
      "Epoch 15/25, Loss: 0.7435, Accuracy: 0.9900\n",
      "Epoch 16/25, Loss: 0.7173, Accuracy: 0.9900\n",
      "Epoch 17/25, Loss: 0.6924, Accuracy: 1.0000\n",
      "Epoch 18/25, Loss: 0.6683, Accuracy: 1.0000\n",
      "Epoch 19/25, Loss: 0.6454, Accuracy: 1.0000\n",
      "Epoch 20/25, Loss: 0.6232, Accuracy: 1.0000\n",
      "Epoch 21/25, Loss: 0.6023, Accuracy: 1.0000\n",
      "Epoch 22/25, Loss: 0.5824, Accuracy: 1.0000\n",
      "Epoch 23/25, Loss: 0.5630, Accuracy: 1.0000\n",
      "Epoch 24/25, Loss: 0.5447, Accuracy: 1.0000\n",
      "Epoch 25/25, Loss: 0.5269, Accuracy: 1.0000\n"
     ]
    }
   ],
   "source": [
    "num_epochs = 25 \n",
    "\n",
    "for epoch in range(num_epochs):\n",
    "    pre_trained_model.train()\n",
    "    train_loss, train_acc = 0, 0\n",
    "\n",
    "    for images, labels in zero_loader:\n",
    "\n",
    "        images, labels = images.to(device), labels.to(device)\n",
    "\n",
    "        optimizer.zero_grad() # Zero the gradients\n",
    "\n",
    "        outputs = pre_trained_model(images) # Forward pass\n",
    "\n",
    "        loss = criterion(outputs, labels) # Calculate the loss\n",
    "        acc = accuracy(outputs, labels)\n",
    "\n",
    "        loss.backward() # Backward pass\n",
    "\n",
    "        optimizer.step() # Update the weights\n",
    "\n",
    "        train_loss += loss.item()\n",
    "        train_acc += acc\n",
    "\n",
    "    train_loss /= len(zero_loader)\n",
    "    train_acc /= len(zero_loader)\n",
    "\n",
    "    print(f\"Epoch {epoch+1}/{num_epochs}, Loss: {train_loss:.4f}, Accuracy: {train_acc:.4f}\")"
   ]
  },
  {
   "cell_type": "code",
   "execution_count": null,
   "metadata": {},
   "outputs": [],
   "source": []
  }
 ],
 "metadata": {
  "kernelspec": {
   "display_name": ".venv",
   "language": "python",
   "name": "python3"
  },
  "language_info": {
   "codemirror_mode": {
    "name": "ipython",
    "version": 3
   },
   "file_extension": ".py",
   "mimetype": "text/x-python",
   "name": "python",
   "nbconvert_exporter": "python",
   "pygments_lexer": "ipython3",
   "version": "3.11.3"
  }
 },
 "nbformat": 4,
 "nbformat_minor": 2
}
