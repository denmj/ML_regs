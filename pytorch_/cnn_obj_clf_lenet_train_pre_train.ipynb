{
 "cells": [
  {
   "cell_type": "code",
   "execution_count": 6,
   "metadata": {},
   "outputs": [],
   "source": [
    "%matplotlib inline\n",
    "import os\n",
    "import sys\n",
    "from datetime import datetime\n",
    "\n",
    "import torch\n",
    "import torch.nn as nn\n",
    "import torch.nn.functional as F\n",
    "\n",
    "import torchvision\n",
    "from torchvision import transforms, datasets\n",
    "from torch.utils.data import ConcatDataset\n",
    "import torch.optim as optim\n",
    "from torchmetrics import Accuracy\n",
    "from torchinfo import summary\n",
    "from torch.utils.tensorboard import SummaryWriter\n",
    "from Lenet import LeNet5\n",
    "\n",
    "import matplotlib.pyplot as plt\n",
    "import numpy as np\n",
    "\n",
    "# Settings \n",
    "\n",
    "torch.set_printoptions(precision=3)"
   ]
  },
  {
   "cell_type": "markdown",
   "metadata": {},
   "source": [
    "### First we train Lenet model on MNIST data set tath includes digits from 1 to 9, Secondly, we use pre-trained model to and fine tune it to classify '0' "
   ]
  },
  {
   "cell_type": "code",
   "execution_count": 8,
   "metadata": {},
   "outputs": [
    {
     "name": "stdout",
     "output_type": "stream",
     "text": [
      "Unique labels in the modified training set: tensor([1, 2, 3, 4, 5, 6, 7, 8, 9])\n",
      "Unique labels in the modified test set: tensor([1, 2, 3, 4, 5, 6, 7, 8, 9])\n"
     ]
    }
   ],
   "source": [
    "class MNISTNoZero(datasets.MNIST):\n",
    "    def __init__(self, *args, **kwargs):\n",
    "        super(MNISTNoZero, self).__init__(*args, **kwargs)\n",
    "        \n",
    "        # Filter out indices of all '0' digits\n",
    "        self.non_zero_indices = [i for i, target in enumerate(self.targets) if target != 0]\n",
    "        \n",
    "        # Keep only the data and targets that are not '0'\n",
    "        self.data = self.data[self.non_zero_indices]\n",
    "        self.targets = self.targets[self.non_zero_indices]\n",
    "\n",
    "\n",
    "# Normalization transform\n",
    "transform_normalize = transforms.Compose([\n",
    "    transforms.ToTensor(),\n",
    "    transforms.Normalize((0.5,), (0.5,))\n",
    "])\n",
    "\n",
    "#Use to get the '0' digits\n",
    "mnist_dataset = datasets.MNIST(root='./data', train=True, download=True, transform=transform_normalize)\n",
    "\n",
    "# Create training and test datasets without '0' digits\n",
    "mnist_trainset_no_zero = MNISTNoZero(root='./data', train=True, download=True, transform=transform_normalize)\n",
    "\n",
    "mnist_testset_no_zero = MNISTNoZero(root='./data', train=False, download=True, transform=transform_normalize)\n",
    "classes = ('1', '2', '3', '4', '5', '6', '7', '8', '9')\n",
    "\n",
    "\n",
    "# Verify by checking the unique labels in the modified datasets\n",
    "print(\"Unique labels in the modified training set:\", mnist_trainset_no_zero.targets.unique())\n",
    "print(\"Unique labels in the modified test set:\", mnist_testset_no_zero.targets.unique())"
   ]
  },
  {
   "cell_type": "code",
   "execution_count": 14,
   "metadata": {},
   "outputs": [
    {
     "name": "stdout",
     "output_type": "stream",
     "text": [
      "Size of the modified training set: 54077\n"
     ]
    }
   ],
   "source": [
    "# size of mnist_trainset_no_zero\n",
    "print(\"Size of the modified training set:\", len(mnist_trainset_no_zero))"
   ]
  },
  {
   "cell_type": "code",
   "execution_count": 9,
   "metadata": {},
   "outputs": [
    {
     "name": "stdout",
     "output_type": "stream",
     "text": [
      "Number of images in the subset: 100\n"
     ]
    }
   ],
   "source": [
    "indices_of_zeros = [i for i, label in enumerate(mnist_dataset.targets) if label == 0]\n",
    "\n",
    "# Randomly select 100-200 indices of '0' digits\n",
    "# You can adjust the number by changing the value of num_samples\n",
    "num_samples = 100  # or 200, depending on your requirement\n",
    "selected_indices = np.random.choice(indices_of_zeros, num_samples, replace=False)\n",
    "\n",
    "# Create a subset from the MNIST dataset using the selected indices\n",
    "subset_of_zeros = torch.utils.data.Subset(mnist_dataset, selected_indices)\n",
    "\n",
    "# Verify the dataset\n",
    "print(f\"Number of images in the subset: {len(subset_of_zeros)}\")\n"
   ]
  },
  {
   "cell_type": "code",
   "execution_count": 16,
   "metadata": {},
   "outputs": [],
   "source": [
    "train_dataset, val_dataset = torch.utils.data.random_split(mnist_trainset_no_zero, [45077, 9000])\n",
    "\n",
    "trainloader = torch.utils.data.DataLoader(train_dataset, batch_size=64,\n",
    "                                          shuffle=True, num_workers=2)\n",
    "\n",
    "testloader = torch.utils.data.DataLoader(mnist_testset_no_zero, batch_size=64,\n",
    "                                            shuffle=False, num_workers=2)\n",
    "\n",
    "valloader = torch.utils.data.DataLoader(val_dataset, batch_size=64,\n",
    "                                            shuffle=False, num_workers=2)\n",
    "\n",
    "zero_loader = torch.utils.data.DataLoader(subset_of_zeros, batch_size=10,  # Smaller batch size due to small dataset\n",
    "                                          shuffle=True, num_workers=2)"
   ]
  },
  {
   "cell_type": "code",
   "execution_count": null,
   "metadata": {},
   "outputs": [],
   "source": []
  }
 ],
 "metadata": {
  "kernelspec": {
   "display_name": ".venv",
   "language": "python",
   "name": "python3"
  },
  "language_info": {
   "codemirror_mode": {
    "name": "ipython",
    "version": 3
   },
   "file_extension": ".py",
   "mimetype": "text/x-python",
   "name": "python",
   "nbconvert_exporter": "python",
   "pygments_lexer": "ipython3",
   "version": "3.11.3"
  }
 },
 "nbformat": 4,
 "nbformat_minor": 2
}
