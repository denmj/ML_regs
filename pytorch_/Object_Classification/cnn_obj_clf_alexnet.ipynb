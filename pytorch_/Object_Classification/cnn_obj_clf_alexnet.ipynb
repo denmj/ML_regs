{
 "cells": [
  {
   "cell_type": "code",
   "execution_count": 1,
   "metadata": {},
   "outputs": [],
   "source": [
    "%matplotlib inline\n",
    "import os\n",
    "import sys\n",
    "from datetime import datetime\n",
    "\n",
    "import torch\n",
    "import torch.nn as nn\n",
    "import torch.nn.functional as F\n",
    "\n",
    "import torchvision\n",
    "import torchvision.transforms as transforms\n",
    "from torch.utils.data import ConcatDataset\n",
    "import torch.optim as optim\n",
    "from torchmetrics import Accuracy\n",
    "from torchinfo import summary\n",
    "from torch.utils.tensorboard import SummaryWriter\n",
    "\n",
    "\n",
    "import matplotlib.pyplot as plt\n",
    "import numpy as np\n",
    "\n",
    "# Settings \n",
    "\n",
    "torch.set_printoptions(precision=3)"
   ]
  },
  {
   "cell_type": "code",
   "execution_count": 2,
   "metadata": {},
   "outputs": [],
   "source": [
    "transform_normalize = transforms.Compose(\n",
    "    [transforms.Resize(224),\n",
    "     transforms.ToTensor(),\n",
    "     transforms.Normalize((0.5,), (0.5,))])\n",
    "\n",
    "mnist_trainset = torchvision.datasets.MNIST(root='./data', train=True,\n",
    "                                download=True, transform=transform_normalize)\n",
    "\n",
    "mnist_testset = torchvision.datasets.MNIST(root='./data', train=False,\n",
    "                                 download=True, transform=transform_normalize)\n",
    "\n",
    "classes = ('0', '1', '2', '3', '4', '5', '6', '7', '8', '9')\n",
    "\n",
    "train_dataset, val_dataset = torch.utils.data.random_split(mnist_trainset, [50000, 10000])\n",
    "\n",
    "trainloader = torch.utils.data.DataLoader(train_dataset, batch_size=64,\n",
    "                                          shuffle=True, num_workers=2)\n",
    "\n",
    "testloader = torch.utils.data.DataLoader(mnist_testset, batch_size=64,\n",
    "                                            shuffle=False, num_workers=2)\n",
    "\n",
    "valloader = torch.utils.data.DataLoader(val_dataset, batch_size=64,\n",
    "                                            shuffle=False, num_workers=2)"
   ]
  },
  {
   "cell_type": "code",
   "execution_count": 3,
   "metadata": {},
   "outputs": [],
   "source": [
    "class AlexNet(nn.Module):\n",
    "    def __init__(self, num_classes=10):\n",
    "        super(AlexNet, self).__init__()\n",
    "        self.features = nn.Sequential(\n",
    "            nn.Conv2d(1, 64, kernel_size=11, stride=4, padding=2),\n",
    "            nn.ReLU(inplace=True),\n",
    "            nn.MaxPool2d(kernel_size=3, stride=2),\n",
    "            nn.Conv2d(64, 192, kernel_size=5, padding=2),\n",
    "            nn.ReLU(inplace=True),\n",
    "            nn.MaxPool2d(kernel_size=3, stride=2),\n",
    "            nn.Conv2d(192, 384, kernel_size=3, padding=1),\n",
    "            nn.ReLU(inplace=True),\n",
    "            nn.Conv2d(384, 256, kernel_size=3, padding=1),\n",
    "            nn.ReLU(inplace=True),\n",
    "            nn.Conv2d(256, 256, kernel_size=3, padding=1),\n",
    "            nn.ReLU(inplace=True),\n",
    "            nn.MaxPool2d(kernel_size=3, stride=2),\n",
    "        )\n",
    "        self.avgpool = nn.AdaptiveAvgPool2d((6, 6))\n",
    "        self.classifier = nn.Sequential(\n",
    "            nn.Dropout(),\n",
    "            nn.Linear(256 * 6 * 6, 4096),\n",
    "            nn.ReLU(inplace=True),\n",
    "            nn.Dropout(),\n",
    "            nn.Linear(4096, 4096),\n",
    "            nn.ReLU(inplace=True),\n",
    "            nn.Linear(4096, num_classes),\n",
    "        )\n",
    "\n",
    "    def forward(self, x):\n",
    "        x = self.features(x)\n",
    "        x = self.avgpool(x)\n",
    "        x = torch.flatten(x, 1)\n",
    "        x = self.classifier(x)\n",
    "        return x"
   ]
  },
  {
   "cell_type": "code",
   "execution_count": 4,
   "metadata": {},
   "outputs": [],
   "source": [
    "device = torch.device(\"cuda:0\" if torch.cuda.is_available() else \"cpu\")\n",
    "accuracy = Accuracy(task='multiclass', num_classes=10)\n",
    "\n",
    "accuracy = accuracy.to(device)\n",
    "model_alex = AlexNet().to(device)\n",
    "\n",
    "criterion = nn.CrossEntropyLoss()\n",
    "optimizer_adam = optim.Adam(model_alex.parameters(), lr=0.001)\n",
    "\n",
    "optimizer_sgd = torch.optim.SGD(model_alex.parameters(), lr=0.001, momentum=0.9)\n"
   ]
  },
  {
   "cell_type": "code",
   "execution_count": 10,
   "metadata": {},
   "outputs": [
    {
     "data": {
      "text/plain": [
       "========================================================================================================================\n",
       "Layer (type (var_name))                  Input Shape          Output Shape         Param #              Trainable\n",
       "========================================================================================================================\n",
       "AlexNet (AlexNet)                        [1, 1, 224, 224]     [1, 10]              --                   True\n",
       "├─Sequential (features)                  [1, 1, 224, 224]     [1, 256, 6, 6]       --                   True\n",
       "│    └─Conv2d (0)                        [1, 1, 224, 224]     [1, 64, 55, 55]      7,808                True\n",
       "│    └─ReLU (1)                          [1, 64, 55, 55]      [1, 64, 55, 55]      --                   --\n",
       "│    └─MaxPool2d (2)                     [1, 64, 55, 55]      [1, 64, 27, 27]      --                   --\n",
       "│    └─Conv2d (3)                        [1, 64, 27, 27]      [1, 192, 27, 27]     307,392              True\n",
       "│    └─ReLU (4)                          [1, 192, 27, 27]     [1, 192, 27, 27]     --                   --\n",
       "│    └─MaxPool2d (5)                     [1, 192, 27, 27]     [1, 192, 13, 13]     --                   --\n",
       "│    └─Conv2d (6)                        [1, 192, 13, 13]     [1, 384, 13, 13]     663,936              True\n",
       "│    └─ReLU (7)                          [1, 384, 13, 13]     [1, 384, 13, 13]     --                   --\n",
       "│    └─Conv2d (8)                        [1, 384, 13, 13]     [1, 256, 13, 13]     884,992              True\n",
       "│    └─ReLU (9)                          [1, 256, 13, 13]     [1, 256, 13, 13]     --                   --\n",
       "│    └─Conv2d (10)                       [1, 256, 13, 13]     [1, 256, 13, 13]     590,080              True\n",
       "│    └─ReLU (11)                         [1, 256, 13, 13]     [1, 256, 13, 13]     --                   --\n",
       "│    └─MaxPool2d (12)                    [1, 256, 13, 13]     [1, 256, 6, 6]       --                   --\n",
       "├─AdaptiveAvgPool2d (avgpool)            [1, 256, 6, 6]       [1, 256, 6, 6]       --                   --\n",
       "├─Sequential (classifier)                [1, 9216]            [1, 10]              --                   True\n",
       "│    └─Dropout (0)                       [1, 9216]            [1, 9216]            --                   --\n",
       "│    └─Linear (1)                        [1, 9216]            [1, 4096]            37,752,832           True\n",
       "│    └─ReLU (2)                          [1, 4096]            [1, 4096]            --                   --\n",
       "│    └─Dropout (3)                       [1, 4096]            [1, 4096]            --                   --\n",
       "│    └─Linear (4)                        [1, 4096]            [1, 4096]            16,781,312           True\n",
       "│    └─ReLU (5)                          [1, 4096]            [1, 4096]            --                   --\n",
       "│    └─Linear (6)                        [1, 4096]            [1, 10]              40,970               True\n",
       "========================================================================================================================\n",
       "Total params: 57,029,322\n",
       "Trainable params: 57,029,322\n",
       "Non-trainable params: 0\n",
       "Total mult-adds (Units.MEGABYTES): 663.78\n",
       "========================================================================================================================\n",
       "Input size (MB): 0.20\n",
       "Forward/backward pass size (MB): 3.95\n",
       "Params size (MB): 228.12\n",
       "Estimated Total Size (MB): 232.26\n",
       "========================================================================================================================"
      ]
     },
     "execution_count": 10,
     "metadata": {},
     "output_type": "execute_result"
    }
   ],
   "source": [
    "summary(model=model_alex, input_size=(1, 1, 224, 224), col_width=20,\n",
    "                  col_names=['input_size', 'output_size', 'num_params', 'trainable'], row_settings=['var_names'], verbose=0)"
   ]
  },
  {
   "cell_type": "code",
   "execution_count": 5,
   "metadata": {},
   "outputs": [],
   "source": [
    "# Track the loss and accuracy\n",
    "timestamp = datetime.now().strftime(\"%Y-%m-%d\")\n",
    "experiment_name = f'AlexNet_MNIST_{timestamp}'\n",
    "model_name = 'AlexNet'\n",
    "log_dir = os.path.join('runs', timestamp, experiment_name, model_name)\n",
    "log_writer = SummaryWriter(log_dir=log_dir)"
   ]
  },
  {
   "cell_type": "code",
   "execution_count": 7,
   "metadata": {},
   "outputs": [
    {
     "name": "stdout",
     "output_type": "stream",
     "text": [
      "Epoch 1, Loss: 0.0781, Accuracy: 0.9785\n",
      "Val Loss: 0.0529, Val Accuracy: 0.9857\n",
      "Epoch 2, Loss: 0.0730, Accuracy: 0.9797\n",
      "Val Loss: 0.0769, Val Accuracy: 0.9797\n",
      "Epoch 3, Loss: 0.0634, Accuracy: 0.9821\n",
      "Val Loss: 0.0906, Val Accuracy: 0.9769\n",
      "Epoch 4, Loss: 0.0604, Accuracy: 0.9836\n",
      "Val Loss: 0.0504, Val Accuracy: 0.9848\n",
      "Epoch 5, Loss: 0.0499, Accuracy: 0.9859\n",
      "Val Loss: 0.0389, Val Accuracy: 0.9899\n"
     ]
    }
   ],
   "source": [
    "\n",
    "for epoch in range(5):  # loop over the dataset multiple times\n",
    "    train_loss, train_acc = 0, 0\n",
    "    for X, y in trainloader:\n",
    "        X, y = X.to(device), y.to(device)\n",
    "\n",
    "        model_alex.train()\n",
    "        # model5.train()\n",
    "\n",
    "        # y_pred = model5(X)\n",
    "        y_pred = model_alex(X)\n",
    "\n",
    "        loss = criterion(y_pred, y)\n",
    "        train_loss += loss.item()\n",
    "\n",
    "        acc = accuracy(y_pred, y)\n",
    "        train_acc += acc\n",
    "\n",
    "        optimizer_adam.zero_grad()\n",
    "        loss.backward()\n",
    "        optimizer_adam.step()\n",
    "    \n",
    "    train_loss /= len(trainloader)\n",
    "    train_acc /= len(trainloader)\n",
    "\n",
    "    val_loss, val_acc = 0, 0\n",
    "    model_alex.eval()\n",
    "\n",
    "    with torch.inference_mode():\n",
    "        for X, y in valloader:\n",
    "            X, y = X.to(device), y.to(device)\n",
    "            y_pred = model_alex(X)\n",
    "            loss = criterion(y_pred, y)\n",
    "            val_loss += loss.item()\n",
    "            acc = accuracy(y_pred, y)\n",
    "            val_acc += acc\n",
    "        \n",
    "        val_loss /= len(valloader)\n",
    "        val_acc /= len(valloader)\n",
    "\n",
    "\n",
    "    log_writer.add_scalars(main_tag=\"Loss\", tag_scalar_dict={\"train/loss\": train_loss, \"val/loss\": val_loss}, global_step=epoch)\n",
    "    log_writer.add_scalars(main_tag=\"Accuracy\", tag_scalar_dict={\"train/acc\": train_acc, \"val/acc\": val_acc}, global_step=epoch)\n",
    "    print(f'Epoch {epoch+1}, Loss: {train_loss:.4f}, Accuracy: {train_acc:.4f}')\n",
    "    print(f'Val Loss: {val_loss:.4f}, Val Accuracy: {val_acc:.4f}')\n"
   ]
  },
  {
   "cell_type": "code",
   "execution_count": 8,
   "metadata": {},
   "outputs": [],
   "source": [
    "torch.save(model_alex.state_dict(), 'alexnet_model_mnist_full.pth')"
   ]
  },
  {
   "cell_type": "code",
   "execution_count": null,
   "metadata": {},
   "outputs": [],
   "source": []
  }
 ],
 "metadata": {
  "kernelspec": {
   "display_name": ".venv",
   "language": "python",
   "name": "python3"
  },
  "language_info": {
   "codemirror_mode": {
    "name": "ipython",
    "version": 3
   },
   "file_extension": ".py",
   "mimetype": "text/x-python",
   "name": "python",
   "nbconvert_exporter": "python",
   "pygments_lexer": "ipython3",
   "version": "3.11.3"
  }
 },
 "nbformat": 4,
 "nbformat_minor": 2
}
